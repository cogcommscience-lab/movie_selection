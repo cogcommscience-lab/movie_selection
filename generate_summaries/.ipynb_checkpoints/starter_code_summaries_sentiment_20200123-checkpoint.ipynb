{
 "cells": [
  {
   "cell_type": "code",
   "execution_count": 1,
   "metadata": {},
   "outputs": [],
   "source": [
    "# Uses ths guide: https://stackabuse.com/text-summarization-with-nltk-in-python/"
   ]
  },
  {
   "cell_type": "code",
   "execution_count": 1,
   "metadata": {},
   "outputs": [],
   "source": [
    "# You'll need all these packages. You might need to install the extra nltk packages (see: https://www.nltk.org/data.html)\n",
    "\n",
    "import re\n",
    "import nltk\n",
    "from nltk.tokenize import word_tokenize, sent_tokenize\n",
    "import pandas as pd\n",
    "import heapq"
   ]
  },
  {
   "cell_type": "code",
   "execution_count": 2,
   "metadata": {},
   "outputs": [
    {
     "name": "stdout",
     "output_type": "stream",
     "text": [
      "             ID                                            summary\n",
      "0      23890098  Shlykov, a hard-working taxi driver and Lyosha...\n",
      "1      31186339  The nation of Panem consists of a wealthy Capi...\n",
      "2      20663735  Poovalli Induchoodan  is sentenced for six yea...\n",
      "3       2231378  The Lemon Drop Kid , a New York City swindler,...\n",
      "4        595909  Seventh-day Adventist Church pastor Michael Ch...\n",
      "...         ...                                                ...\n",
      "42298  34808485  The story is about Reema , a young Muslim scho...\n",
      "42299   1096473  In 1928 Hollywood, director Leo Andreyev  look...\n",
      "42300  35102018  American Luthier focuses on Randy Parsons’ tra...\n",
      "42301   8628195  Abdur Rehman Khan , a middle-aged dry fruit se...\n",
      "42302   6040782  1940 - Operation Dynamo has just taken place. ...\n",
      "\n",
      "[42303 rows x 2 columns]\n"
     ]
    }
   ],
   "source": [
    "# Read movie summaries into Pandas\n",
    "# Store Movie ID in first column, summary in second column.\n",
    "# Should make a n x 2 matrix where n = number of movie summaries\n",
    "df = pd.read_csv('plot_summaries.txt',sep='\\t', names = [\"ID\", \"summary\"])\n",
    "df.columns = df.columns.str.strip()\n",
    "print(df)"
   ]
  },
  {
   "cell_type": "code",
   "execution_count": 3,
   "metadata": {},
   "outputs": [],
   "source": [
    "# This needs to be better. Instead of defining string text, it needs to import the .txt file to pandas\n",
    "# Where each row is a new movie summary\n",
    "\n",
    "## article_text = '''\n",
    "## In 1936, archaeologist Indiana Jones braves an ancient Peruvian temple filled with booby traps to retrieve a golden idol. Upon fleeing the temple, Indiana is confronted by rival archaeologist René Belloq and the indigenous Hovitos. Surrounded and outnumbered, Indiana is forced to surrender the idol to Belloq and escapes aboard a waiting Waco seaplane, in the process revealing his fear of snakes. Shortly after returning to the college in the United States where he teaches archaeology, Indiana is interviewed by two Army intelligence agents. They inform him that the Nazis, in their quest for occult power, are searching for his old mentor, Abner Ravenwood, who is the leading expert on the ancient Egyptian city of Tanis and possesses the headpiece of an artifact called the Staff of Ra. Indiana deduces that the Nazis are searching for Tanis because it is believed to be the location of the Ark of the Covenant, the biblical chest built by the Israelites to contain the fragments of the Ten Commandments; the Nazis believe that if they acquire it, their armies will become invincible. The Staff of Ra, meanwhile, is the key to finding the Well of Souls, a secret chamber in which the Ark is buried. The agents subsequently authorize Indiana to recover the Ark before the Nazis. Indiana travels to Nepal, only to find that Ravenwood has died and that the headpiece is in the possession of his daughter, Marion, Indiana's embittered former lover. Indiana offers to buy the headpiece for three thousand dollars, plus two thousand more when they return to the United States. Marion's tavern is suddenly raided by a group of thugs commanded by Nazi agent Toht. The tavern is burned down in the ensuing fight, during which Toht burns his hand on the searing hot headpiece as he tries to grab it. Indiana and Marion escape with the headpiece, with Marion declaring she will accompany Indiana in his search for the Ark so he can repay his debt. They travel to Cairo where they learn from Indiana's friend Sallah, a skilled excavator, that Belloq and the Nazis, led by Colonel Dietrich, are currently digging for the Well of Souls with a replica of the headpiece modeled after the scar on Toht's hand. In a bazaar, Nazi operatives attempt to kidnap Marion and as Indiana chases after them it appears that she dies in an explosion. While deciphering the markings on the headpiece, Indiana and Sallah realize that the Nazis have miscalculated the location of the Well of Souls. Using this to their advantage, they infiltrate the Nazi dig and use the Staff of Ra to determine the location correctly and uncover the Well of Souls, which is filled with snakes. Indiana fends off the snakes and acquires the Ark, but Belloq, Dietrich and the Nazis arrive to take it. They toss Marion into the well with Indiana and seal them in, but they manage to escape. After a fistfight with a giant Nazi mechanic, blowing up a flying wing on the airstrip, and chasing down a convoy of trucks, Indiana takes back the Ark before it can be shipped to Berlin. Indiana and Marion leave Cairo to escort the Ark to England on board a tramp steamer. The next morning, their boat is boarded by Belloq, Dietrich and the Nazis, who once again steal the Ark and kidnap Marion. Indiana stows away on their U-boat and follows them to an isolated island in the Aegean Sea where Belloq plans to test the power of the Ark before presenting it to Hitler. Indiana reveals himself and threatens to destroy the Ark with a rocket-propelled grenade launcher, but Belloq calls his bluff, knowing Indy cannot bear to eradicate an important historical artifact. Indiana surrenders and is tied to a post with Marion as Belloq performs a ceremonial opening of the Ark, which appears to contain nothing but sand. Suddenly, spirits resembling Old Testament Seraphim emerge from the Ark. Aware of the supernatural danger of looking at the opened Ark, Indiana warns Marion to close her eyes. The apparitions suddenly morph into \"angels of death\", and lightning bolts begin flying out of the Ark, gruesomely killing the Nazi soldiers, while Belloq, Dietrich and Toht meet even more gruesome fates. The fires rise into the sky, then fall back down to Earth and the Ark closes with a crack of thunder. Back in Washington, D.C., the Army intelligence agents tell a suspicious Indiana and Brody that the Ark \"is someplace safe\" to be studied by \"top men\". In reality, the Ark is sealed in a wooden crate labeled \"top secret\" and stored in a giant government warehouse filled with countless similar crates.\n",
    "## '''\n",
    "\n",
    "\n"
   ]
  },
  {
   "cell_type": "code",
   "execution_count": 4,
   "metadata": {},
   "outputs": [
    {
     "name": "stdout",
     "output_type": "stream",
     "text": [
      "The article_text list contains 42303 article summaries.\n"
     ]
    }
   ],
   "source": [
    "# Remove Square Brackets and Extra Spaces\n",
    "\n",
    "size = len(df.summary)\n",
    "article_text = [\"\" for x in range(size)]\n",
    "\n",
    "for i in range(size):\n",
    "    article_text[i] = re.sub(r'\\[[0-9]*\\]', ' ', df.summary[i])\n",
    "    article_text[i] = re.sub(r'\\s+', ' ', df.summary[i])\n",
    "\n",
    "\n",
    "# QC. The list should be as long as the total number of rows in the Pandas dataframe\n",
    "print('The article_text list contains {0} article summaries.'.format(len(article_text)))"
   ]
  },
  {
   "cell_type": "code",
   "execution_count": 5,
   "metadata": {},
   "outputs": [
    {
     "data": {
      "text/plain": [
       "[\"Shlykov, a hard-working taxi driver and Lyosha, a saxophonist, develop a bizarre love-hate relationship, and despite their prejudices, realize they aren't so different after all.\",\n",
       " 'The nation of Panem consists of a wealthy Capitol and twelve poorer districts. As punishment for a past rebellion, each district must provide a boy and girl between the ages of 12 and 18 selected by lottery for the annual Hunger Games. The tributes must fight to the death in an arena; the sole survivor is rewarded with fame and wealth. In her first Reaping, 12-year-old Primrose Everdeen is chosen from District 12. Her older sister Katniss volunteers to take her place. Peeta Mellark, a baker\\'s son who once gave Katniss bread when she was starving, is the other District 12 tribute. Katniss and Peeta are taken to the Capitol, accompanied by their frequently drunk mentor, past victor Haymitch Abernathy. He warns them about the \"Career\" tributes who train intensively at special academies and almost always win. During a TV interview with Caesar Flickerman, Peeta unexpectedly reveals his love for Katniss. She is outraged, believing it to be a ploy to gain audience support, as \"sponsors\" may provide in-Games gifts of food, medicine, and tools. However, she discovers Peeta meant what he said. The televised Games begin with half of the tributes killed in the first few minutes; Katniss barely survives ignoring Haymitch\\'s advice to run away from the melee over the tempting supplies and weapons strewn in front of a structure called the Cornucopia. Peeta forms an uneasy alliance with the four Careers. They later find Katniss and corner her up a tree. Rue, hiding in a nearby tree, draws her attention to a poisonous tracker jacker nest hanging from a branch. Katniss drops it on her sleeping besiegers. They all scatter, except for Glimmer, who is killed by the insects. Hallucinating due to tracker jacker venom, Katniss is warned to run away by Peeta. Rue cares for Katniss for a couple of days until she recovers. Meanwhile, the alliance has gathered all the supplies into a pile. Katniss has Rue draw them off, then destroys the stockpile by setting off the mines planted around it. Furious, Cato kills the boy assigned to guard it. As Katniss runs from the scene, she hears Rue calling her name. She finds Rue trapped and releases her. Marvel, a tribute from District 1, throws a spear at Katniss, but she dodges the spear, causing it to stab Rue in the stomach instead. Katniss shoots him dead with an arrow. She then comforts the dying Rue with a song. Afterward, she gathers and arranges flowers around Rue\\'s body. When this is televised, it sparks a riot in Rue\\'s District 11. President Snow summons Seneca Crane, the Gamemaker, to express his displeasure at the way the Games are turning out. Since Katniss and Peeta have been presented to the public as \"star-crossed lovers\", Haymitch is able to convince Crane to make a rule change to avoid inciting further riots. It is announced that tributes from the same district can win as a pair. Upon hearing this, Katniss searches for Peeta and finds him with an infected sword wound in the leg. She portrays herself as deeply in love with him and gains a sponsor\\'s gift of soup. An announcer proclaims a feast, where the thing each survivor needs most will be provided. Peeta begs her not to risk getting him medicine. Katniss promises not to go, but after he falls asleep, she heads to the feast. Clove ambushes her and pins her down. As Clove gloats, Thresh, the other District 11 tribute, kills Clove after overhearing her tormenting Katniss about killing Rue. He spares Katniss \"just this time...for Rue\". The medicine works, keeping Peeta mobile. Foxface, the girl from District 5, dies from eating nightlock berries she stole from Peeta; neither knew they are highly poisonous. Crane changes the time of day in the arena to late at night and unleashes a pack of hound-like creatures to speed things up. They kill Thresh and force Katniss and Peeta to flee to the roof of the Cornucopia, where they encounter Cato. After a battle, Katniss wounds Cato with an arrow and Peeta hurls him to the creatures below. Katniss shoots Cato to spare him a prolonged death. With Peeta and Katniss apparently victorious, the rule change allowing two winners is suddenly revoked. Peeta tells Katniss to shoot him. Instead, she gives him half of the nightlock. However, before they can commit suicide, they are hastily proclaimed the victors of the 74th Hunger Games. Haymitch warns Katniss that she has made powerful enemies after her display of defiance. She and Peeta return to District 12, while Crane is locked in a room with a bowl of nightlock berries, and President Snow considers the situation.',\n",
       " \"Poovalli Induchoodan is sentenced for six years prison life for murdering his classmate. Induchoodan, the only son of Justice Maranchery Karunakara Menon was framed in the case by Manapally Madhavan Nambiar and his crony DYSP Sankaranarayanan to take revenge on idealist judge Menon who had earlier given jail sentence to Manapally in a corruption case. Induchoodan, who had achieved top rank in Indian Civil Service loses the post and Manapally Sudheeran ([[Saikumar enters the list of civil service trainees. We learn in flashback that it was Ramakrishnan the son of Moopil Nair , who had actually killed his classmate. Six years passes by and Manapally Madhavan Nambiar, now a former state minister, is dead and Induchoodan, who is all rage at the gross injustice meted out to him - thus destroying his promising life, is released from prison. Induchoodan thwarts Manapally Pavithran from performing the funeral rituals of Nambiar at Bharathapuzha. Many confrontations between Induchoodan and Manapally's henchmen follow. Induchoodan also falls in love with Anuradha ([[Aishwarya , the strong-willed and independent-minded daughter of Mooppil Nair. Justice Menon and his wife returns back to Kerala to stay with Induchoodan. There is an appearance of a girl named Indulekha ([[Kanaka , who claims to be the daughter of Justice Menon. Menon flatly refuses the claim and banishes her. Forced by circumstances and at the instigation and help of Manapally Pavithran, she reluctantly come out open with the claim. Induchoodan at first thrashes the protesters. But upon knowing the truth from Chandrabhanu his uncle, he accepts the task of her protection in the capacity as elder brother. Induchoodan decides to marry off Indulekha to his good friend Jayakrishnan . Induchoodan has a confrontation with his father and prods him to accept mistake and acknowledge the parentage of Indulekha. Menon ultimately regrets and goes on to confess to his daughter. The very next day, when Induchoodan returns to Poovally, Indulekha is found dead and Menon is accused of murdering her. The whole act was planned by Pavithran, who after killing Indulekha, forces Raman Nair to testify against Menon in court. In court, Nandagopal Maarar , a close friend of Induchoodan and a famous supreme court lawyer, appears for Menon and manages to lay bare the murder plot and hidden intentions of other party . Menon is judged innocent of the crime by court. After confronting Pavithran and promising just retribution to the crime of killing Indulekha, Induchoodan returns to his father, who now shows remorse for all his actions including not believing in the innocence of his son. But while speaking to Induchoodan, Menon suffers a heart stroke and passes away. At Menon's funeral, Manapally Pavithran arrives to poke fun at Induchoodan and he also tries to carry out the postponed last rituals of his own father. Induchoodan interrupts the ritual and avenges for the death of his sister and father by severely injuring Pavithran. On his way back to peaceful life, Induchoodan accepts Anuradha as his life partner.\",\n",
       " 'The Lemon Drop Kid , a New York City swindler, is illegally touting horses at a Florida racetrack. After several successful hustles, the Kid comes across a beautiful, but gullible, woman intending to bet a lot of money. The Kid convinces her to switch her bet, employing a prefabricated con. Unfortunately for the Kid, the woman \"belongs\" to notorious gangster Moose Moran , as does the money. The Kid\\'s choice finishes dead last and a furious Moran demands the Kid provide him with $10,000 by Christmas Eve, or the Kid \"won\\'t make it to New Year\\'s.\" The Kid decides to return to New York to try to come up with the money. He first tries his on-again, off-again girlfriend Brainy Baxter . However, when talk of long-term commitment arises, the Kid quickly makes an escape. He next visits local crime boss \"Oxford\" Charley , with whom he has had past dealings. This falls through as Charley is in serious tax trouble and does not particularly care for the Kid anyway. As he leaves Charley\\'s establishment and is about to give up hope, the Kid notices a cornerside Santa Claus and his kettle. Thinking quickly, the Kid fashions himself a Santa suit and begins collecting donations. This fails as he is recognized by a passing policeman, who remembers his previous underhanded activity well. The Kid lands in court, where he is convicted of collecting for a charity without a license and sentenced to ten days in jail . However, while in court, the Kid learns where his scheme went wrong. After a short stay, Brainy arrives to bail him out. He then sets about restarting his Santa operation, this time with legitimate backing. To this end, he needs a charity to represent and a city license. The kid receives key inspiration when he remembers that Nellie Thursday , a kindly neighborhood resident, has been denied entry to a retirement home because of her jailed husband\\'s criminal past as a safecracker. Organizing other small-time New York swindlers and Brainy, who is both surprised and charmed at the Kid\\'s apparent goodwill, the Kid converts an abandoned casino into the \"Nellie Thursday Home For Old Dolls\". A small group of elderly women and makeshift amenities complete the project. The Kid is able to receive the all-important city license. Now free to collect, the Kid and his compatriots dress as Santa Claus and position themselves throughout Manhattan. The others are unaware that the Kid plans to keep the money for himself to pay off Moran. The scheme is a huge success, netting $2,000 in only a few days. An overjoyed Brainy decides to leave her job as a dancer and look after the \"home\" full-time until after Christmas. Coincidentally, her employer is none other than \"Oxford\" Charley, whom Brainy cheerfully informs of the effort. Seeing a potential gold mine, Charley decides to muscle in on the operation. Reasoning that the Nellie Thursday home is \"wherever Nellie Thursday is\", Charley and his crew kidnap the home\\'s inhabitants and move them to Charley\\'s mansion in Nyack. The Kid learns of this when he returns to the home after a late night to find the home deserted and money gone. Clued in by oversized Oxford footprints in the snow, the Kid and his friends pay Charley a visit. Here, Charley reveals the true nature of the Kid\\'s scheme through a phone conversation with Moose Moran. The Kid\\'s accomplices are angry and move to confront him, but the Kid manages to slip away. However, Brainy tracks him down outside and voices her disgust at his actions. After a few days of stewing in self-pity , the Kid is surprised to meet Nellie, who has escaped Charley\\'s compound. He decides to recover the money, sneaking into Charley\\'s home in the guise of an elderly woman. He finds that Charley and his crew are again moving the women, this time to a more secure location. Using the heightened activity to his advantage, the Kid enters Charley\\'s office and confronts him. After a brief struggle, the Kid overpowers Charley and makes off with the money, narrowly avoiding the thugs Charley has sent after him. The ensuing chaos allows Brainy and the others to escape. Later that night, the Kid returns to the original Nellie Thursday home to meet with Moose Moran . The deal appears to be in jeopardy as Moran arrives with Charley. Charley demands that the Kid reimburse him, which would leave too little for Moran. However, the Kid turns the tables by hitting a switch, revealing hidden casino tables. All are occupied, mainly by the escaped old dolls. The Kid and his still-loyal friends hold off the gangsters as the police initiate a raid. Moran and Charley are arrested while the judge who sentenced the Kid earlier warns that he will be \"keeping an eye on him\". The Kid assures him that will not be necessary and his attention will lie on the home, which is going to become a reality. The night\\'s main event begins as Nellie\\'s husband Henry, free on parole, joyously reunites with his wife.',\n",
       " 'Seventh-day Adventist Church pastor Michael Chamberlain, his wife Lindy, their two sons, and their nine-week-old daughter Azaria are on a camping holiday in the Outback. With the baby sleeping in their tent, the family is enjoying a barbecue with their fellow campers when a cry is heard. Lindy returns to the tent to check on Azaria and is certain she sees a dingo with something in its mouth running off as she approaches. When she discovers the infant is missing, everyone joins forces to search for her, without success. It is assumed what Lindy saw was the animal carrying off the child, and a subsequent inquest rules her account of events is true. The tide of public opinion soon turns against the Chamberlains. For many, Lindy seems too stoic, too cold-hearted, and too accepting of the disaster that has befallen her. Gossip about her begins to swell and soon is accepted as statements of fact. The couple\\'s beliefs are not widely practised in the country, and when the media report a rumour that the name Azaria means \"sacrifice in the wilderness\" , the public is quick to believe they decapitated their baby with a pair of scissors as part of a bizarre religious rite. Law-enforcement officials find new witnesses, forensics experts, and a lot of circumstantial evidence—including a small wooden coffin Michael uses as a receptacle for his parishioners\\' packs of un-smoked cigarettes—and reopen the investigation, and eventually Lindy is charged with murder. Seven months pregnant, she ignores her attorneys\\' advice to play on the jury\\'s sympathy and appears emotionless on the stand, convincing onlookers she is guilty of the crime of which she is accused. As the trial progresses, Michael\\'s faith in his religion and his belief in his wife disintegrate, and he stumbles through his testimony, suggesting he is concealing the truth. In October 1982, Lindy is found guilty and sentenced to life imprisonment with hard labour, while Michael is found guilty as an accessory and given an 18-month suspended sentence. More than three years later, while searching for the body of an English tourist who fell from Uluru, police discover a small item of clothing that is identified as the jacket Lindy had insisted Azaria was wearing over her jumpsuit, which had been recovered early in the investigation. She is immediately released from prison, the case reopened and all convictions against the Chamberlains overturned.']"
      ]
     },
     "execution_count": 5,
     "metadata": {},
     "output_type": "execute_result"
    }
   ],
   "source": [
    "# QC. Slice the first 6 elements in the article_text list. Make sure that they are cleaned correctly and\n",
    "# Make sure that one summary is still one element in the list\n",
    "\n",
    "article_text[0:5]\n",
    "\n",
    "# we have some ([( before certain names but they are also there in the original data\n",
    "\n"
   ]
  },
  {
   "cell_type": "code",
   "execution_count": 6,
   "metadata": {},
   "outputs": [
    {
     "name": "stdout",
     "output_type": "stream",
     "text": [
      "The formatted_article_text list contains 42303 article summaries.\n"
     ]
    }
   ],
   "source": [
    "# Removing special characters and digits\n",
    "## formatted_article_text = re.sub('[^a-zA-Z]', ' ', article_text )\n",
    "## formatted_article_text = re.sub(r'\\s+', ' ', formatted_article_text)\n",
    "\n",
    "# Remove special characters and digits\n",
    "\n",
    "formatted_article_text = [\"\" for x in range(size)]\n",
    "for i in range(size):\n",
    "    formatted_article_text[i] = re.sub('[^a-zA-Z]', ' ', article_text[i])\n",
    "    formatted_article_text[i] = re.sub(r'\\s+', ' ', formatted_article_text[i])\n",
    "\n",
    "# QC. The list should be as long as the total number of rows in the Pandas dataframe\n",
    "print('The formatted_article_text list contains {0} article summaries.'.format(len(formatted_article_text)))\n",
    "\n"
   ]
  },
  {
   "cell_type": "code",
   "execution_count": 7,
   "metadata": {},
   "outputs": [
    {
     "data": {
      "text/plain": [
       "['Shlykov a hard working taxi driver and Lyosha a saxophonist develop a bizarre love hate relationship and despite their prejudices realize they aren t so different after all ',\n",
       " 'The nation of Panem consists of a wealthy Capitol and twelve poorer districts As punishment for a past rebellion each district must provide a boy and girl between the ages of and selected by lottery for the annual Hunger Games The tributes must fight to the death in an arena the sole survivor is rewarded with fame and wealth In her first Reaping year old Primrose Everdeen is chosen from District Her older sister Katniss volunteers to take her place Peeta Mellark a baker s son who once gave Katniss bread when she was starving is the other District tribute Katniss and Peeta are taken to the Capitol accompanied by their frequently drunk mentor past victor Haymitch Abernathy He warns them about the Career tributes who train intensively at special academies and almost always win During a TV interview with Caesar Flickerman Peeta unexpectedly reveals his love for Katniss She is outraged believing it to be a ploy to gain audience support as sponsors may provide in Games gifts of food medicine and tools However she discovers Peeta meant what he said The televised Games begin with half of the tributes killed in the first few minutes Katniss barely survives ignoring Haymitch s advice to run away from the melee over the tempting supplies and weapons strewn in front of a structure called the Cornucopia Peeta forms an uneasy alliance with the four Careers They later find Katniss and corner her up a tree Rue hiding in a nearby tree draws her attention to a poisonous tracker jacker nest hanging from a branch Katniss drops it on her sleeping besiegers They all scatter except for Glimmer who is killed by the insects Hallucinating due to tracker jacker venom Katniss is warned to run away by Peeta Rue cares for Katniss for a couple of days until she recovers Meanwhile the alliance has gathered all the supplies into a pile Katniss has Rue draw them off then destroys the stockpile by setting off the mines planted around it Furious Cato kills the boy assigned to guard it As Katniss runs from the scene she hears Rue calling her name She finds Rue trapped and releases her Marvel a tribute from District throws a spear at Katniss but she dodges the spear causing it to stab Rue in the stomach instead Katniss shoots him dead with an arrow She then comforts the dying Rue with a song Afterward she gathers and arranges flowers around Rue s body When this is televised it sparks a riot in Rue s District President Snow summons Seneca Crane the Gamemaker to express his displeasure at the way the Games are turning out Since Katniss and Peeta have been presented to the public as star crossed lovers Haymitch is able to convince Crane to make a rule change to avoid inciting further riots It is announced that tributes from the same district can win as a pair Upon hearing this Katniss searches for Peeta and finds him with an infected sword wound in the leg She portrays herself as deeply in love with him and gains a sponsor s gift of soup An announcer proclaims a feast where the thing each survivor needs most will be provided Peeta begs her not to risk getting him medicine Katniss promises not to go but after he falls asleep she heads to the feast Clove ambushes her and pins her down As Clove gloats Thresh the other District tribute kills Clove after overhearing her tormenting Katniss about killing Rue He spares Katniss just this time for Rue The medicine works keeping Peeta mobile Foxface the girl from District dies from eating nightlock berries she stole from Peeta neither knew they are highly poisonous Crane changes the time of day in the arena to late at night and unleashes a pack of hound like creatures to speed things up They kill Thresh and force Katniss and Peeta to flee to the roof of the Cornucopia where they encounter Cato After a battle Katniss wounds Cato with an arrow and Peeta hurls him to the creatures below Katniss shoots Cato to spare him a prolonged death With Peeta and Katniss apparently victorious the rule change allowing two winners is suddenly revoked Peeta tells Katniss to shoot him Instead she gives him half of the nightlock However before they can commit suicide they are hastily proclaimed the victors of the th Hunger Games Haymitch warns Katniss that she has made powerful enemies after her display of defiance She and Peeta return to District while Crane is locked in a room with a bowl of nightlock berries and President Snow considers the situation ',\n",
       " 'Poovalli Induchoodan is sentenced for six years prison life for murdering his classmate Induchoodan the only son of Justice Maranchery Karunakara Menon was framed in the case by Manapally Madhavan Nambiar and his crony DYSP Sankaranarayanan to take revenge on idealist judge Menon who had earlier given jail sentence to Manapally in a corruption case Induchoodan who had achieved top rank in Indian Civil Service loses the post and Manapally Sudheeran Saikumar enters the list of civil service trainees We learn in flashback that it was Ramakrishnan the son of Moopil Nair who had actually killed his classmate Six years passes by and Manapally Madhavan Nambiar now a former state minister is dead and Induchoodan who is all rage at the gross injustice meted out to him thus destroying his promising life is released from prison Induchoodan thwarts Manapally Pavithran from performing the funeral rituals of Nambiar at Bharathapuzha Many confrontations between Induchoodan and Manapally s henchmen follow Induchoodan also falls in love with Anuradha Aishwarya the strong willed and independent minded daughter of Mooppil Nair Justice Menon and his wife returns back to Kerala to stay with Induchoodan There is an appearance of a girl named Indulekha Kanaka who claims to be the daughter of Justice Menon Menon flatly refuses the claim and banishes her Forced by circumstances and at the instigation and help of Manapally Pavithran she reluctantly come out open with the claim Induchoodan at first thrashes the protesters But upon knowing the truth from Chandrabhanu his uncle he accepts the task of her protection in the capacity as elder brother Induchoodan decides to marry off Indulekha to his good friend Jayakrishnan Induchoodan has a confrontation with his father and prods him to accept mistake and acknowledge the parentage of Indulekha Menon ultimately regrets and goes on to confess to his daughter The very next day when Induchoodan returns to Poovally Indulekha is found dead and Menon is accused of murdering her The whole act was planned by Pavithran who after killing Indulekha forces Raman Nair to testify against Menon in court In court Nandagopal Maarar a close friend of Induchoodan and a famous supreme court lawyer appears for Menon and manages to lay bare the murder plot and hidden intentions of other party Menon is judged innocent of the crime by court After confronting Pavithran and promising just retribution to the crime of killing Indulekha Induchoodan returns to his father who now shows remorse for all his actions including not believing in the innocence of his son But while speaking to Induchoodan Menon suffers a heart stroke and passes away At Menon s funeral Manapally Pavithran arrives to poke fun at Induchoodan and he also tries to carry out the postponed last rituals of his own father Induchoodan interrupts the ritual and avenges for the death of his sister and father by severely injuring Pavithran On his way back to peaceful life Induchoodan accepts Anuradha as his life partner ',\n",
       " 'The Lemon Drop Kid a New York City swindler is illegally touting horses at a Florida racetrack After several successful hustles the Kid comes across a beautiful but gullible woman intending to bet a lot of money The Kid convinces her to switch her bet employing a prefabricated con Unfortunately for the Kid the woman belongs to notorious gangster Moose Moran as does the money The Kid s choice finishes dead last and a furious Moran demands the Kid provide him with by Christmas Eve or the Kid won t make it to New Year s The Kid decides to return to New York to try to come up with the money He first tries his on again off again girlfriend Brainy Baxter However when talk of long term commitment arises the Kid quickly makes an escape He next visits local crime boss Oxford Charley with whom he has had past dealings This falls through as Charley is in serious tax trouble and does not particularly care for the Kid anyway As he leaves Charley s establishment and is about to give up hope the Kid notices a cornerside Santa Claus and his kettle Thinking quickly the Kid fashions himself a Santa suit and begins collecting donations This fails as he is recognized by a passing policeman who remembers his previous underhanded activity well The Kid lands in court where he is convicted of collecting for a charity without a license and sentenced to ten days in jail However while in court the Kid learns where his scheme went wrong After a short stay Brainy arrives to bail him out He then sets about restarting his Santa operation this time with legitimate backing To this end he needs a charity to represent and a city license The kid receives key inspiration when he remembers that Nellie Thursday a kindly neighborhood resident has been denied entry to a retirement home because of her jailed husband s criminal past as a safecracker Organizing other small time New York swindlers and Brainy who is both surprised and charmed at the Kid s apparent goodwill the Kid converts an abandoned casino into the Nellie Thursday Home For Old Dolls A small group of elderly women and makeshift amenities complete the project The Kid is able to receive the all important city license Now free to collect the Kid and his compatriots dress as Santa Claus and position themselves throughout Manhattan The others are unaware that the Kid plans to keep the money for himself to pay off Moran The scheme is a huge success netting in only a few days An overjoyed Brainy decides to leave her job as a dancer and look after the home full time until after Christmas Coincidentally her employer is none other than Oxford Charley whom Brainy cheerfully informs of the effort Seeing a potential gold mine Charley decides to muscle in on the operation Reasoning that the Nellie Thursday home is wherever Nellie Thursday is Charley and his crew kidnap the home s inhabitants and move them to Charley s mansion in Nyack The Kid learns of this when he returns to the home after a late night to find the home deserted and money gone Clued in by oversized Oxford footprints in the snow the Kid and his friends pay Charley a visit Here Charley reveals the true nature of the Kid s scheme through a phone conversation with Moose Moran The Kid s accomplices are angry and move to confront him but the Kid manages to slip away However Brainy tracks him down outside and voices her disgust at his actions After a few days of stewing in self pity the Kid is surprised to meet Nellie who has escaped Charley s compound He decides to recover the money sneaking into Charley s home in the guise of an elderly woman He finds that Charley and his crew are again moving the women this time to a more secure location Using the heightened activity to his advantage the Kid enters Charley s office and confronts him After a brief struggle the Kid overpowers Charley and makes off with the money narrowly avoiding the thugs Charley has sent after him The ensuing chaos allows Brainy and the others to escape Later that night the Kid returns to the original Nellie Thursday home to meet with Moose Moran The deal appears to be in jeopardy as Moran arrives with Charley Charley demands that the Kid reimburse him which would leave too little for Moran However the Kid turns the tables by hitting a switch revealing hidden casino tables All are occupied mainly by the escaped old dolls The Kid and his still loyal friends hold off the gangsters as the police initiate a raid Moran and Charley are arrested while the judge who sentenced the Kid earlier warns that he will be keeping an eye on him The Kid assures him that will not be necessary and his attention will lie on the home which is going to become a reality The night s main event begins as Nellie s husband Henry free on parole joyously reunites with his wife ',\n",
       " 'Seventh day Adventist Church pastor Michael Chamberlain his wife Lindy their two sons and their nine week old daughter Azaria are on a camping holiday in the Outback With the baby sleeping in their tent the family is enjoying a barbecue with their fellow campers when a cry is heard Lindy returns to the tent to check on Azaria and is certain she sees a dingo with something in its mouth running off as she approaches When she discovers the infant is missing everyone joins forces to search for her without success It is assumed what Lindy saw was the animal carrying off the child and a subsequent inquest rules her account of events is true The tide of public opinion soon turns against the Chamberlains For many Lindy seems too stoic too cold hearted and too accepting of the disaster that has befallen her Gossip about her begins to swell and soon is accepted as statements of fact The couple s beliefs are not widely practised in the country and when the media report a rumour that the name Azaria means sacrifice in the wilderness the public is quick to believe they decapitated their baby with a pair of scissors as part of a bizarre religious rite Law enforcement officials find new witnesses forensics experts and a lot of circumstantial evidence including a small wooden coffin Michael uses as a receptacle for his parishioners packs of un smoked cigarettes and reopen the investigation and eventually Lindy is charged with murder Seven months pregnant she ignores her attorneys advice to play on the jury s sympathy and appears emotionless on the stand convincing onlookers she is guilty of the crime of which she is accused As the trial progresses Michael s faith in his religion and his belief in his wife disintegrate and he stumbles through his testimony suggesting he is concealing the truth In October Lindy is found guilty and sentenced to life imprisonment with hard labour while Michael is found guilty as an accessory and given an month suspended sentence More than three years later while searching for the body of an English tourist who fell from Uluru police discover a small item of clothing that is identified as the jacket Lindy had insisted Azaria was wearing over her jumpsuit which had been recovered early in the investigation She is immediately released from prison the case reopened and all convictions against the Chamberlains overturned ']"
      ]
     },
     "execution_count": 7,
     "metadata": {},
     "output_type": "execute_result"
    }
   ],
   "source": [
    "# QC. Slice the first 6 elements in the article_text list. Make sure that they are cleaned correctly and\n",
    "# Make sure that one summary is still one element in the list\n",
    "\n",
    "formatted_article_text[0:5]\n",
    "\n",
    "##removing digits alsoo removes dates included in the original text. It is okay since we will use the article_text to differentiate words.\n",
    "\n"
   ]
  },
  {
   "cell_type": "code",
   "execution_count": 8,
   "metadata": {},
   "outputs": [
    {
     "name": "stdout",
     "output_type": "stream",
     "text": [
      "The sentence_text list contains 42303 article summaries.\n"
     ]
    }
   ],
   "source": [
    "# Convert Text to Sentences\n",
    "\n",
    "sentence_list = [\"\" for x in range(size)]\n",
    "for i in range(size):\n",
    "  ##  sentence_list[i] = nltk.sent_tokenize(formatted_article_text[i]) #this should be \n",
    "  #article text because other one does not include any punctuations.\n",
    "    sentence_list[i] = nltk.sent_tokenize(article_text[i])\n",
    "\n",
    "# QC. The list should be as long as the total number of rows in the Pandas dataframe\n",
    "print('The sentence_text list contains {0} article summaries.'.format(len(sentence_list)))"
   ]
  },
  {
   "cell_type": "code",
   "execution_count": 9,
   "metadata": {},
   "outputs": [
    {
     "data": {
      "text/plain": [
       "[[\"Shlykov, a hard-working taxi driver and Lyosha, a saxophonist, develop a bizarre love-hate relationship, and despite their prejudices, realize they aren't so different after all.\"],\n",
       " ['The nation of Panem consists of a wealthy Capitol and twelve poorer districts.',\n",
       "  'As punishment for a past rebellion, each district must provide a boy and girl between the ages of 12 and 18 selected by lottery for the annual Hunger Games.',\n",
       "  'The tributes must fight to the death in an arena; the sole survivor is rewarded with fame and wealth.',\n",
       "  'In her first Reaping, 12-year-old Primrose Everdeen is chosen from District 12.',\n",
       "  'Her older sister Katniss volunteers to take her place.',\n",
       "  \"Peeta Mellark, a baker's son who once gave Katniss bread when she was starving, is the other District 12 tribute.\",\n",
       "  'Katniss and Peeta are taken to the Capitol, accompanied by their frequently drunk mentor, past victor Haymitch Abernathy.',\n",
       "  'He warns them about the \"Career\" tributes who train intensively at special academies and almost always win.',\n",
       "  'During a TV interview with Caesar Flickerman, Peeta unexpectedly reveals his love for Katniss.',\n",
       "  'She is outraged, believing it to be a ploy to gain audience support, as \"sponsors\" may provide in-Games gifts of food, medicine, and tools.',\n",
       "  'However, she discovers Peeta meant what he said.',\n",
       "  \"The televised Games begin with half of the tributes killed in the first few minutes; Katniss barely survives ignoring Haymitch's advice to run away from the melee over the tempting supplies and weapons strewn in front of a structure called the Cornucopia.\",\n",
       "  'Peeta forms an uneasy alliance with the four Careers.',\n",
       "  'They later find Katniss and corner her up a tree.',\n",
       "  'Rue, hiding in a nearby tree, draws her attention to a poisonous tracker jacker nest hanging from a branch.',\n",
       "  'Katniss drops it on her sleeping besiegers.',\n",
       "  'They all scatter, except for Glimmer, who is killed by the insects.',\n",
       "  'Hallucinating due to tracker jacker venom, Katniss is warned to run away by Peeta.',\n",
       "  'Rue cares for Katniss for a couple of days until she recovers.',\n",
       "  'Meanwhile, the alliance has gathered all the supplies into a pile.',\n",
       "  'Katniss has Rue draw them off, then destroys the stockpile by setting off the mines planted around it.',\n",
       "  'Furious, Cato kills the boy assigned to guard it.',\n",
       "  'As Katniss runs from the scene, she hears Rue calling her name.',\n",
       "  'She finds Rue trapped and releases her.',\n",
       "  'Marvel, a tribute from District 1, throws a spear at Katniss, but she dodges the spear, causing it to stab Rue in the stomach instead.',\n",
       "  'Katniss shoots him dead with an arrow.',\n",
       "  'She then comforts the dying Rue with a song.',\n",
       "  \"Afterward, she gathers and arranges flowers around Rue's body.\",\n",
       "  \"When this is televised, it sparks a riot in Rue's District 11.\",\n",
       "  'President Snow summons Seneca Crane, the Gamemaker, to express his displeasure at the way the Games are turning out.',\n",
       "  'Since Katniss and Peeta have been presented to the public as \"star-crossed lovers\", Haymitch is able to convince Crane to make a rule change to avoid inciting further riots.',\n",
       "  'It is announced that tributes from the same district can win as a pair.',\n",
       "  'Upon hearing this, Katniss searches for Peeta and finds him with an infected sword wound in the leg.',\n",
       "  \"She portrays herself as deeply in love with him and gains a sponsor's gift of soup.\",\n",
       "  'An announcer proclaims a feast, where the thing each survivor needs most will be provided.',\n",
       "  'Peeta begs her not to risk getting him medicine.',\n",
       "  'Katniss promises not to go, but after he falls asleep, she heads to the feast.',\n",
       "  'Clove ambushes her and pins her down.',\n",
       "  'As Clove gloats, Thresh, the other District 11 tribute, kills Clove after overhearing her tormenting Katniss about killing Rue.',\n",
       "  'He spares Katniss \"just this time...for Rue\".',\n",
       "  'The medicine works, keeping Peeta mobile.',\n",
       "  'Foxface, the girl from District 5, dies from eating nightlock berries she stole from Peeta; neither knew they are highly poisonous.',\n",
       "  'Crane changes the time of day in the arena to late at night and unleashes a pack of hound-like creatures to speed things up.',\n",
       "  'They kill Thresh and force Katniss and Peeta to flee to the roof of the Cornucopia, where they encounter Cato.',\n",
       "  'After a battle, Katniss wounds Cato with an arrow and Peeta hurls him to the creatures below.',\n",
       "  'Katniss shoots Cato to spare him a prolonged death.',\n",
       "  'With Peeta and Katniss apparently victorious, the rule change allowing two winners is suddenly revoked.',\n",
       "  'Peeta tells Katniss to shoot him.',\n",
       "  'Instead, she gives him half of the nightlock.',\n",
       "  'However, before they can commit suicide, they are hastily proclaimed the victors of the 74th Hunger Games.',\n",
       "  'Haymitch warns Katniss that she has made powerful enemies after her display of defiance.',\n",
       "  'She and Peeta return to District 12, while Crane is locked in a room with a bowl of nightlock berries, and President Snow considers the situation.'],\n",
       " ['Poovalli Induchoodan is sentenced for six years prison life for murdering his classmate.',\n",
       "  'Induchoodan, the only son of Justice Maranchery Karunakara Menon was framed in the case by Manapally Madhavan Nambiar and his crony DYSP Sankaranarayanan to take revenge on idealist judge Menon who had earlier given jail sentence to Manapally in a corruption case.',\n",
       "  'Induchoodan, who had achieved top rank in Indian Civil Service loses the post and Manapally Sudheeran ([[Saikumar enters the list of civil service trainees.',\n",
       "  'We learn in flashback that it was Ramakrishnan the son of Moopil Nair , who had actually killed his classmate.',\n",
       "  'Six years passes by and Manapally Madhavan Nambiar, now a former state minister, is dead and Induchoodan, who is all rage at the gross injustice meted out to him - thus destroying his promising life, is released from prison.',\n",
       "  'Induchoodan thwarts Manapally Pavithran from performing the funeral rituals of Nambiar at Bharathapuzha.',\n",
       "  \"Many confrontations between Induchoodan and Manapally's henchmen follow.\",\n",
       "  'Induchoodan also falls in love with Anuradha ([[Aishwarya , the strong-willed and independent-minded daughter of Mooppil Nair.',\n",
       "  'Justice Menon and his wife returns back to Kerala to stay with Induchoodan.',\n",
       "  'There is an appearance of a girl named Indulekha ([[Kanaka , who claims to be the daughter of Justice Menon.',\n",
       "  'Menon flatly refuses the claim and banishes her.',\n",
       "  'Forced by circumstances and at the instigation and help of Manapally Pavithran, she reluctantly come out open with the claim.',\n",
       "  'Induchoodan at first thrashes the protesters.',\n",
       "  'But upon knowing the truth from Chandrabhanu his uncle, he accepts the task of her protection in the capacity as elder brother.',\n",
       "  'Induchoodan decides to marry off Indulekha to his good friend Jayakrishnan .',\n",
       "  'Induchoodan has a confrontation with his father and prods him to accept mistake and acknowledge the parentage of Indulekha.',\n",
       "  'Menon ultimately regrets and goes on to confess to his daughter.',\n",
       "  'The very next day, when Induchoodan returns to Poovally, Indulekha is found dead and Menon is accused of murdering her.',\n",
       "  'The whole act was planned by Pavithran, who after killing Indulekha, forces Raman Nair to testify against Menon in court.',\n",
       "  'In court, Nandagopal Maarar , a close friend of Induchoodan and a famous supreme court lawyer, appears for Menon and manages to lay bare the murder plot and hidden intentions of other party .',\n",
       "  'Menon is judged innocent of the crime by court.',\n",
       "  'After confronting Pavithran and promising just retribution to the crime of killing Indulekha, Induchoodan returns to his father, who now shows remorse for all his actions including not believing in the innocence of his son.',\n",
       "  'But while speaking to Induchoodan, Menon suffers a heart stroke and passes away.',\n",
       "  \"At Menon's funeral, Manapally Pavithran arrives to poke fun at Induchoodan and he also tries to carry out the postponed last rituals of his own father.\",\n",
       "  'Induchoodan interrupts the ritual and avenges for the death of his sister and father by severely injuring Pavithran.',\n",
       "  'On his way back to peaceful life, Induchoodan accepts Anuradha as his life partner.'],\n",
       " ['The Lemon Drop Kid , a New York City swindler, is illegally touting horses at a Florida racetrack.',\n",
       "  'After several successful hustles, the Kid comes across a beautiful, but gullible, woman intending to bet a lot of money.',\n",
       "  'The Kid convinces her to switch her bet, employing a prefabricated con.',\n",
       "  'Unfortunately for the Kid, the woman \"belongs\" to notorious gangster Moose Moran , as does the money.',\n",
       "  'The Kid\\'s choice finishes dead last and a furious Moran demands the Kid provide him with $10,000 by Christmas Eve, or the Kid \"won\\'t make it to New Year\\'s.\"',\n",
       "  'The Kid decides to return to New York to try to come up with the money.',\n",
       "  'He first tries his on-again, off-again girlfriend Brainy Baxter .',\n",
       "  'However, when talk of long-term commitment arises, the Kid quickly makes an escape.',\n",
       "  'He next visits local crime boss \"Oxford\" Charley , with whom he has had past dealings.',\n",
       "  'This falls through as Charley is in serious tax trouble and does not particularly care for the Kid anyway.',\n",
       "  \"As he leaves Charley's establishment and is about to give up hope, the Kid notices a cornerside Santa Claus and his kettle.\",\n",
       "  'Thinking quickly, the Kid fashions himself a Santa suit and begins collecting donations.',\n",
       "  'This fails as he is recognized by a passing policeman, who remembers his previous underhanded activity well.',\n",
       "  'The Kid lands in court, where he is convicted of collecting for a charity without a license and sentenced to ten days in jail .',\n",
       "  'However, while in court, the Kid learns where his scheme went wrong.',\n",
       "  'After a short stay, Brainy arrives to bail him out.',\n",
       "  'He then sets about restarting his Santa operation, this time with legitimate backing.',\n",
       "  'To this end, he needs a charity to represent and a city license.',\n",
       "  \"The kid receives key inspiration when he remembers that Nellie Thursday , a kindly neighborhood resident, has been denied entry to a retirement home because of her jailed husband's criminal past as a safecracker.\",\n",
       "  'Organizing other small-time New York swindlers and Brainy, who is both surprised and charmed at the Kid\\'s apparent goodwill, the Kid converts an abandoned casino into the \"Nellie Thursday Home For Old Dolls\".',\n",
       "  'A small group of elderly women and makeshift amenities complete the project.',\n",
       "  'The Kid is able to receive the all-important city license.',\n",
       "  'Now free to collect, the Kid and his compatriots dress as Santa Claus and position themselves throughout Manhattan.',\n",
       "  'The others are unaware that the Kid plans to keep the money for himself to pay off Moran.',\n",
       "  'The scheme is a huge success, netting $2,000 in only a few days.',\n",
       "  'An overjoyed Brainy decides to leave her job as a dancer and look after the \"home\" full-time until after Christmas.',\n",
       "  'Coincidentally, her employer is none other than \"Oxford\" Charley, whom Brainy cheerfully informs of the effort.',\n",
       "  'Seeing a potential gold mine, Charley decides to muscle in on the operation.',\n",
       "  'Reasoning that the Nellie Thursday home is \"wherever Nellie Thursday is\", Charley and his crew kidnap the home\\'s inhabitants and move them to Charley\\'s mansion in Nyack.',\n",
       "  'The Kid learns of this when he returns to the home after a late night to find the home deserted and money gone.',\n",
       "  'Clued in by oversized Oxford footprints in the snow, the Kid and his friends pay Charley a visit.',\n",
       "  \"Here, Charley reveals the true nature of the Kid's scheme through a phone conversation with Moose Moran.\",\n",
       "  \"The Kid's accomplices are angry and move to confront him, but the Kid manages to slip away.\",\n",
       "  'However, Brainy tracks him down outside and voices her disgust at his actions.',\n",
       "  \"After a few days of stewing in self-pity , the Kid is surprised to meet Nellie, who has escaped Charley's compound.\",\n",
       "  \"He decides to recover the money, sneaking into Charley's home in the guise of an elderly woman.\",\n",
       "  'He finds that Charley and his crew are again moving the women, this time to a more secure location.',\n",
       "  \"Using the heightened activity to his advantage, the Kid enters Charley's office and confronts him.\",\n",
       "  'After a brief struggle, the Kid overpowers Charley and makes off with the money, narrowly avoiding the thugs Charley has sent after him.',\n",
       "  'The ensuing chaos allows Brainy and the others to escape.',\n",
       "  'Later that night, the Kid returns to the original Nellie Thursday home to meet with Moose Moran .',\n",
       "  'The deal appears to be in jeopardy as Moran arrives with Charley.',\n",
       "  'Charley demands that the Kid reimburse him, which would leave too little for Moran.',\n",
       "  'However, the Kid turns the tables by hitting a switch, revealing hidden casino tables.',\n",
       "  'All are occupied, mainly by the escaped old dolls.',\n",
       "  'The Kid and his still-loyal friends hold off the gangsters as the police initiate a raid.',\n",
       "  'Moran and Charley are arrested while the judge who sentenced the Kid earlier warns that he will be \"keeping an eye on him\".',\n",
       "  'The Kid assures him that will not be necessary and his attention will lie on the home, which is going to become a reality.',\n",
       "  \"The night's main event begins as Nellie's husband Henry, free on parole, joyously reunites with his wife.\"],\n",
       " ['Seventh-day Adventist Church pastor Michael Chamberlain, his wife Lindy, their two sons, and their nine-week-old daughter Azaria are on a camping holiday in the Outback.',\n",
       "  'With the baby sleeping in their tent, the family is enjoying a barbecue with their fellow campers when a cry is heard.',\n",
       "  'Lindy returns to the tent to check on Azaria and is certain she sees a dingo with something in its mouth running off as she approaches.',\n",
       "  'When she discovers the infant is missing, everyone joins forces to search for her, without success.',\n",
       "  'It is assumed what Lindy saw was the animal carrying off the child, and a subsequent inquest rules her account of events is true.',\n",
       "  'The tide of public opinion soon turns against the Chamberlains.',\n",
       "  'For many, Lindy seems too stoic, too cold-hearted, and too accepting of the disaster that has befallen her.',\n",
       "  'Gossip about her begins to swell and soon is accepted as statements of fact.',\n",
       "  'The couple\\'s beliefs are not widely practised in the country, and when the media report a rumour that the name Azaria means \"sacrifice in the wilderness\" , the public is quick to believe they decapitated their baby with a pair of scissors as part of a bizarre religious rite.',\n",
       "  \"Law-enforcement officials find new witnesses, forensics experts, and a lot of circumstantial evidence—including a small wooden coffin Michael uses as a receptacle for his parishioners' packs of un-smoked cigarettes—and reopen the investigation, and eventually Lindy is charged with murder.\",\n",
       "  \"Seven months pregnant, she ignores her attorneys' advice to play on the jury's sympathy and appears emotionless on the stand, convincing onlookers she is guilty of the crime of which she is accused.\",\n",
       "  \"As the trial progresses, Michael's faith in his religion and his belief in his wife disintegrate, and he stumbles through his testimony, suggesting he is concealing the truth.\",\n",
       "  'In October 1982, Lindy is found guilty and sentenced to life imprisonment with hard labour, while Michael is found guilty as an accessory and given an 18-month suspended sentence.',\n",
       "  'More than three years later, while searching for the body of an English tourist who fell from Uluru, police discover a small item of clothing that is identified as the jacket Lindy had insisted Azaria was wearing over her jumpsuit, which had been recovered early in the investigation.',\n",
       "  'She is immediately released from prison, the case reopened and all convictions against the Chamberlains overturned.']]"
      ]
     },
     "execution_count": 9,
     "metadata": {},
     "output_type": "execute_result"
    }
   ],
   "source": [
    "# QC. Slice the first 6 elements in the sentence_text list. Make sure that they are cleaned correctly and\n",
    "# Make sure that one summary is still one element in the list\n",
    "\n",
    "sentence_list[0:5]"
   ]
  },
  {
   "cell_type": "code",
   "execution_count": 10,
   "metadata": {},
   "outputs": [],
   "source": [
    "# For QCing the word frequency loop. It calculates word frequencies for the 1st element in the list of summaries\n",
    "\n",
    "# Find Weighted Frequency of Occurance\n",
    "stopwords = nltk.corpus.stopwords.words('english')\n",
    "\n",
    "word_frequencies_test = {}\n",
    "for word in nltk.word_tokenize(formatted_article_text[1]):\n",
    "    if word not in stopwords:\n",
    "        if word not in word_frequencies_test.keys():\n",
    "            word_frequencies_test[word] = 1\n",
    "        else:\n",
    "            word_frequencies_test[word] += 1\n",
    "            \n",
    "                "
   ]
  },
  {
   "cell_type": "code",
   "execution_count": 11,
   "metadata": {},
   "outputs": [
    {
     "name": "stdout",
     "output_type": "stream",
     "text": [
      "{'The': 4, 'nation': 1, 'Panem': 1, 'consists': 1, 'wealthy': 1, 'Capitol': 2, 'twelve': 1, 'poorer': 1, 'districts': 1, 'As': 3, 'punishment': 1, 'past': 2, 'rebellion': 1, 'district': 2, 'must': 2, 'provide': 2, 'boy': 2, 'girl': 2, 'ages': 1, 'selected': 1, 'lottery': 1, 'annual': 1, 'Hunger': 2, 'Games': 5, 'tributes': 4, 'fight': 1, 'death': 2, 'arena': 2, 'sole': 1, 'survivor': 2, 'rewarded': 1, 'fame': 1, 'wealth': 1, 'In': 1, 'first': 2, 'Reaping': 1, 'year': 1, 'old': 1, 'Primrose': 1, 'Everdeen': 1, 'chosen': 1, 'District': 7, 'Her': 1, 'older': 1, 'sister': 1, 'Katniss': 24, 'volunteers': 1, 'take': 1, 'place': 1, 'Peeta': 16, 'Mellark': 1, 'baker': 1, 'son': 1, 'gave': 1, 'bread': 1, 'starving': 1, 'tribute': 3, 'taken': 1, 'accompanied': 1, 'frequently': 1, 'drunk': 1, 'mentor': 1, 'victor': 1, 'Haymitch': 4, 'Abernathy': 1, 'He': 2, 'warns': 2, 'Career': 1, 'train': 1, 'intensively': 1, 'special': 1, 'academies': 1, 'almost': 1, 'always': 1, 'win': 2, 'During': 1, 'TV': 1, 'interview': 1, 'Caesar': 1, 'Flickerman': 1, 'unexpectedly': 1, 'reveals': 1, 'love': 2, 'She': 5, 'outraged': 1, 'believing': 1, 'ploy': 1, 'gain': 1, 'audience': 1, 'support': 1, 'sponsors': 1, 'may': 1, 'gifts': 1, 'food': 1, 'medicine': 3, 'tools': 1, 'However': 2, 'discovers': 1, 'meant': 1, 'said': 1, 'televised': 2, 'begin': 1, 'half': 2, 'killed': 2, 'minutes': 1, 'barely': 1, 'survives': 1, 'ignoring': 1, 'advice': 1, 'run': 2, 'away': 2, 'melee': 1, 'tempting': 1, 'supplies': 2, 'weapons': 1, 'strewn': 1, 'front': 1, 'structure': 1, 'called': 1, 'Cornucopia': 2, 'forms': 1, 'uneasy': 1, 'alliance': 2, 'four': 1, 'Careers': 1, 'They': 3, 'later': 1, 'find': 1, 'corner': 1, 'tree': 2, 'Rue': 11, 'hiding': 1, 'nearby': 1, 'draws': 1, 'attention': 1, 'poisonous': 2, 'tracker': 2, 'jacker': 2, 'nest': 1, 'hanging': 1, 'branch': 1, 'drops': 1, 'sleeping': 1, 'besiegers': 1, 'scatter': 1, 'except': 1, 'Glimmer': 1, 'insects': 1, 'Hallucinating': 1, 'due': 1, 'venom': 1, 'warned': 1, 'cares': 1, 'couple': 1, 'days': 1, 'recovers': 1, 'Meanwhile': 1, 'gathered': 1, 'pile': 1, 'draw': 1, 'destroys': 1, 'stockpile': 1, 'setting': 1, 'mines': 1, 'planted': 1, 'around': 2, 'Furious': 1, 'Cato': 4, 'kills': 2, 'assigned': 1, 'guard': 1, 'runs': 1, 'scene': 1, 'hears': 1, 'calling': 1, 'name': 1, 'finds': 2, 'trapped': 1, 'releases': 1, 'Marvel': 1, 'throws': 1, 'spear': 2, 'dodges': 1, 'causing': 1, 'stab': 1, 'stomach': 1, 'instead': 1, 'shoots': 2, 'dead': 1, 'arrow': 2, 'comforts': 1, 'dying': 1, 'song': 1, 'Afterward': 1, 'gathers': 1, 'arranges': 1, 'flowers': 1, 'body': 1, 'When': 1, 'sparks': 1, 'riot': 1, 'President': 2, 'Snow': 2, 'summons': 1, 'Seneca': 1, 'Crane': 4, 'Gamemaker': 1, 'express': 1, 'displeasure': 1, 'way': 1, 'turning': 1, 'Since': 1, 'presented': 1, 'public': 1, 'star': 1, 'crossed': 1, 'lovers': 1, 'able': 1, 'convince': 1, 'make': 1, 'rule': 2, 'change': 2, 'avoid': 1, 'inciting': 1, 'riots': 1, 'It': 1, 'announced': 1, 'pair': 1, 'Upon': 1, 'hearing': 1, 'searches': 1, 'infected': 1, 'sword': 1, 'wound': 1, 'leg': 1, 'portrays': 1, 'deeply': 1, 'gains': 1, 'sponsor': 1, 'gift': 1, 'soup': 1, 'An': 1, 'announcer': 1, 'proclaims': 1, 'feast': 2, 'thing': 1, 'needs': 1, 'provided': 1, 'begs': 1, 'risk': 1, 'getting': 1, 'promises': 1, 'go': 1, 'falls': 1, 'asleep': 1, 'heads': 1, 'Clove': 3, 'ambushes': 1, 'pins': 1, 'gloats': 1, 'Thresh': 2, 'overhearing': 1, 'tormenting': 1, 'killing': 1, 'spares': 1, 'time': 2, 'works': 1, 'keeping': 1, 'mobile': 1, 'Foxface': 1, 'dies': 1, 'eating': 1, 'nightlock': 3, 'berries': 2, 'stole': 1, 'neither': 1, 'knew': 1, 'highly': 1, 'changes': 1, 'day': 1, 'late': 1, 'night': 1, 'unleashes': 1, 'pack': 1, 'hound': 1, 'like': 1, 'creatures': 2, 'speed': 1, 'things': 1, 'kill': 1, 'force': 1, 'flee': 1, 'roof': 1, 'encounter': 1, 'After': 1, 'battle': 1, 'wounds': 1, 'hurls': 1, 'spare': 1, 'prolonged': 1, 'With': 1, 'apparently': 1, 'victorious': 1, 'allowing': 1, 'two': 1, 'winners': 1, 'suddenly': 1, 'revoked': 1, 'tells': 1, 'shoot': 1, 'Instead': 1, 'gives': 1, 'commit': 1, 'suicide': 1, 'hastily': 1, 'proclaimed': 1, 'victors': 1, 'th': 1, 'made': 1, 'powerful': 1, 'enemies': 1, 'display': 1, 'defiance': 1, 'return': 1, 'locked': 1, 'room': 1, 'bowl': 1, 'considers': 1, 'situation': 1}\n"
     ]
    }
   ],
   "source": [
    "print(word_frequencies_test)\n",
    "\n",
    "##one thing to consider here is that while stopwords have him.her.the, and they are not counted. \n",
    "#if The, Him, and Her are used in the text\n",
    "#capitalized ones are counted. Is it what we wanted? \n",
    "#also cpaitalized words are counted differently. Is it okay? \n"
   ]
  },
  {
   "cell_type": "code",
   "execution_count": 12,
   "metadata": {},
   "outputs": [
    {
     "name": "stdout",
     "output_type": "stream",
     "text": [
      "The word_frequencies dictionary is 42303 rows long.\n"
     ]
    }
   ],
   "source": [
    "# Find Weighted Frequency of Occurance\n",
    "stopwords = nltk.corpus.stopwords.words('english')\n",
    "\n",
    "word_frequencies = {x:{} for x in range(size)}\n",
    "\n",
    "for i in range(size):\n",
    "    for word in nltk.word_tokenize(formatted_article_text[i]):\n",
    "        if word not in stopwords:\n",
    "            if word not in word_frequencies[i].keys():\n",
    "                word_frequencies[i][word] = 1\n",
    "            else:\n",
    "                word_frequencies[i][word] += 1\n",
    "                \n",
    "# QC. The list should be as long as the total number of rows in the Pandas dataframe\n",
    "print('The word_frequencies dictionary is {0} rows long.'.format(len(word_frequencies)))"
   ]
  },
  {
   "cell_type": "code",
   "execution_count": 13,
   "metadata": {},
   "outputs": [
    {
     "name": "stdout",
     "output_type": "stream",
     "text": [
      "{'The': 4, 'nation': 1, 'Panem': 1, 'consists': 1, 'wealthy': 1, 'Capitol': 2, 'twelve': 1, 'poorer': 1, 'districts': 1, 'As': 3, 'punishment': 1, 'past': 2, 'rebellion': 1, 'district': 2, 'must': 2, 'provide': 2, 'boy': 2, 'girl': 2, 'ages': 1, 'selected': 1, 'lottery': 1, 'annual': 1, 'Hunger': 2, 'Games': 5, 'tributes': 4, 'fight': 1, 'death': 2, 'arena': 2, 'sole': 1, 'survivor': 2, 'rewarded': 1, 'fame': 1, 'wealth': 1, 'In': 1, 'first': 2, 'Reaping': 1, 'year': 1, 'old': 1, 'Primrose': 1, 'Everdeen': 1, 'chosen': 1, 'District': 7, 'Her': 1, 'older': 1, 'sister': 1, 'Katniss': 24, 'volunteers': 1, 'take': 1, 'place': 1, 'Peeta': 16, 'Mellark': 1, 'baker': 1, 'son': 1, 'gave': 1, 'bread': 1, 'starving': 1, 'tribute': 3, 'taken': 1, 'accompanied': 1, 'frequently': 1, 'drunk': 1, 'mentor': 1, 'victor': 1, 'Haymitch': 4, 'Abernathy': 1, 'He': 2, 'warns': 2, 'Career': 1, 'train': 1, 'intensively': 1, 'special': 1, 'academies': 1, 'almost': 1, 'always': 1, 'win': 2, 'During': 1, 'TV': 1, 'interview': 1, 'Caesar': 1, 'Flickerman': 1, 'unexpectedly': 1, 'reveals': 1, 'love': 2, 'She': 5, 'outraged': 1, 'believing': 1, 'ploy': 1, 'gain': 1, 'audience': 1, 'support': 1, 'sponsors': 1, 'may': 1, 'gifts': 1, 'food': 1, 'medicine': 3, 'tools': 1, 'However': 2, 'discovers': 1, 'meant': 1, 'said': 1, 'televised': 2, 'begin': 1, 'half': 2, 'killed': 2, 'minutes': 1, 'barely': 1, 'survives': 1, 'ignoring': 1, 'advice': 1, 'run': 2, 'away': 2, 'melee': 1, 'tempting': 1, 'supplies': 2, 'weapons': 1, 'strewn': 1, 'front': 1, 'structure': 1, 'called': 1, 'Cornucopia': 2, 'forms': 1, 'uneasy': 1, 'alliance': 2, 'four': 1, 'Careers': 1, 'They': 3, 'later': 1, 'find': 1, 'corner': 1, 'tree': 2, 'Rue': 11, 'hiding': 1, 'nearby': 1, 'draws': 1, 'attention': 1, 'poisonous': 2, 'tracker': 2, 'jacker': 2, 'nest': 1, 'hanging': 1, 'branch': 1, 'drops': 1, 'sleeping': 1, 'besiegers': 1, 'scatter': 1, 'except': 1, 'Glimmer': 1, 'insects': 1, 'Hallucinating': 1, 'due': 1, 'venom': 1, 'warned': 1, 'cares': 1, 'couple': 1, 'days': 1, 'recovers': 1, 'Meanwhile': 1, 'gathered': 1, 'pile': 1, 'draw': 1, 'destroys': 1, 'stockpile': 1, 'setting': 1, 'mines': 1, 'planted': 1, 'around': 2, 'Furious': 1, 'Cato': 4, 'kills': 2, 'assigned': 1, 'guard': 1, 'runs': 1, 'scene': 1, 'hears': 1, 'calling': 1, 'name': 1, 'finds': 2, 'trapped': 1, 'releases': 1, 'Marvel': 1, 'throws': 1, 'spear': 2, 'dodges': 1, 'causing': 1, 'stab': 1, 'stomach': 1, 'instead': 1, 'shoots': 2, 'dead': 1, 'arrow': 2, 'comforts': 1, 'dying': 1, 'song': 1, 'Afterward': 1, 'gathers': 1, 'arranges': 1, 'flowers': 1, 'body': 1, 'When': 1, 'sparks': 1, 'riot': 1, 'President': 2, 'Snow': 2, 'summons': 1, 'Seneca': 1, 'Crane': 4, 'Gamemaker': 1, 'express': 1, 'displeasure': 1, 'way': 1, 'turning': 1, 'Since': 1, 'presented': 1, 'public': 1, 'star': 1, 'crossed': 1, 'lovers': 1, 'able': 1, 'convince': 1, 'make': 1, 'rule': 2, 'change': 2, 'avoid': 1, 'inciting': 1, 'riots': 1, 'It': 1, 'announced': 1, 'pair': 1, 'Upon': 1, 'hearing': 1, 'searches': 1, 'infected': 1, 'sword': 1, 'wound': 1, 'leg': 1, 'portrays': 1, 'deeply': 1, 'gains': 1, 'sponsor': 1, 'gift': 1, 'soup': 1, 'An': 1, 'announcer': 1, 'proclaims': 1, 'feast': 2, 'thing': 1, 'needs': 1, 'provided': 1, 'begs': 1, 'risk': 1, 'getting': 1, 'promises': 1, 'go': 1, 'falls': 1, 'asleep': 1, 'heads': 1, 'Clove': 3, 'ambushes': 1, 'pins': 1, 'gloats': 1, 'Thresh': 2, 'overhearing': 1, 'tormenting': 1, 'killing': 1, 'spares': 1, 'time': 2, 'works': 1, 'keeping': 1, 'mobile': 1, 'Foxface': 1, 'dies': 1, 'eating': 1, 'nightlock': 3, 'berries': 2, 'stole': 1, 'neither': 1, 'knew': 1, 'highly': 1, 'changes': 1, 'day': 1, 'late': 1, 'night': 1, 'unleashes': 1, 'pack': 1, 'hound': 1, 'like': 1, 'creatures': 2, 'speed': 1, 'things': 1, 'kill': 1, 'force': 1, 'flee': 1, 'roof': 1, 'encounter': 1, 'After': 1, 'battle': 1, 'wounds': 1, 'hurls': 1, 'spare': 1, 'prolonged': 1, 'With': 1, 'apparently': 1, 'victorious': 1, 'allowing': 1, 'two': 1, 'winners': 1, 'suddenly': 1, 'revoked': 1, 'tells': 1, 'shoot': 1, 'Instead': 1, 'gives': 1, 'commit': 1, 'suicide': 1, 'hastily': 1, 'proclaimed': 1, 'victors': 1, 'th': 1, 'made': 1, 'powerful': 1, 'enemies': 1, 'display': 1, 'defiance': 1, 'return': 1, 'locked': 1, 'room': 1, 'bowl': 1, 'considers': 1, 'situation': 1}\n"
     ]
    }
   ],
   "source": [
    "# QC. Index the 1st element in the dictionary. The frequency counts should match word_frequencies_test\n",
    "print(word_frequencies[1])\n"
   ]
  },
  {
   "cell_type": "code",
   "execution_count": 14,
   "metadata": {},
   "outputs": [
    {
     "name": "stdout",
     "output_type": "stream",
     "text": [
      "The maximum_frequncy dictionary is 42303 rows long.\n"
     ]
    }
   ],
   "source": [
    "# Get Weighted Frequency\n",
    "maximum_frequncy = [\"\" for x in range(size)]\n",
    "for i in range(size):\n",
    "    maximum_frequncy[i] = max(word_frequencies[i].values())\n",
    "\n",
    "    for word in word_frequencies[i].keys():\n",
    "        word_frequencies[i][word] = (word_frequencies[i][word]/maximum_frequncy[i])\n",
    " #QC   \n",
    "print('The maximum_frequncy dictionary is {0} rows long.'.format(len(maximum_frequncy)))\n",
    "\n"
   ]
  },
  {
   "cell_type": "code",
   "execution_count": 15,
   "metadata": {},
   "outputs": [
    {
     "name": "stdout",
     "output_type": "stream",
     "text": [
      "24\n"
     ]
    }
   ],
   "source": [
    "#QC. You can compare this result with the previous list of frequencies and see if it is the highest. \n",
    "print(maximum_frequncy[1])"
   ]
  },
  {
   "cell_type": "code",
   "execution_count": 16,
   "metadata": {},
   "outputs": [],
   "source": [
    "# For QCing the sentence scoes loop. It calculates sentence scores for the 1st element in the list of summaries\n",
    "\n",
    "sentence_scores_test = {}\n",
    "for sent in sentence_list[1]:\n",
    "    for word in nltk.word_tokenize(sent.lower()):\n",
    "        if word in word_frequencies[1].keys():\n",
    "            if len(sent.split(' ')) < 20: ## Change this to specify how long/short of sentences you want to include\n",
    "                if sent not in sentence_scores_test.keys():\n",
    "                    sentence_scores_test[sent] = word_frequencies[1][word]\n",
    "                else:\n",
    "                    sentence_scores_test[sent] += word_frequencies[1][word]\n",
    "                    "
   ]
  },
  {
   "cell_type": "code",
   "execution_count": 17,
   "metadata": {},
   "outputs": [
    {
     "name": "stdout",
     "output_type": "stream",
     "text": [
      "{'The nation of Panem consists of a wealthy Capitol and twelve poorer districts.': 0.24999999999999997, 'The tributes must fight to the death in an arena; the sole survivor is rewarded with fame and wealth.': 0.7083333333333333, 'In her first Reaping, 12-year-old Primrose Everdeen is chosen from District 12.': 0.20833333333333331, 'Her older sister Katniss volunteers to take her place.': 0.20833333333333331, 'Katniss and Peeta are taken to the Capitol, accompanied by their frequently drunk mentor, past victor Haymitch Abernathy.': 0.3333333333333333, 'He warns them about the \"Career\" tributes who train intensively at special academies and almost always win.': 0.5833333333333335, 'During a TV interview with Caesar Flickerman, Peeta unexpectedly reveals his love for Katniss.': 0.20833333333333331, 'However, she discovers Peeta meant what he said.': 0.125, 'Peeta forms an uneasy alliance with the four Careers.': 0.20833333333333331, 'They later find Katniss and corner her up a tree.': 0.20833333333333331, 'Rue, hiding in a nearby tree, draws her attention to a poisonous tracker jacker nest hanging from a branch.': 0.6249999999999999, 'Katniss drops it on her sleeping besiegers.': 0.125, 'They all scatter, except for Glimmer, who is killed by the insects.': 0.20833333333333331, 'Hallucinating due to tracker jacker venom, Katniss is warned to run away by Peeta.': 0.45833333333333326, 'Rue cares for Katniss for a couple of days until she recovers.': 0.16666666666666666, 'Meanwhile, the alliance has gathered all the supplies into a pile.': 0.24999999999999997, 'Katniss has Rue draw them off, then destroys the stockpile by setting off the mines planted around it.': 0.3333333333333333, 'Furious, Cato kills the boy assigned to guard it.': 0.24999999999999997, 'As Katniss runs from the scene, she hears Rue calling her name.': 0.20833333333333331, 'She finds Rue trapped and releases her.': 0.16666666666666666, 'Katniss shoots him dead with an arrow.': 0.20833333333333331, 'She then comforts the dying Rue with a song.': 0.125, \"Afterward, she gathers and arranges flowers around Rue's body.\": 0.24999999999999997, \"When this is televised, it sparks a riot in Rue's District 11.\": 0.25, 'President Snow summons Seneca Crane, the Gamemaker, to express his displeasure at the way the Games are turning out.': 0.20833333333333331, 'It is announced that tributes from the same district can win as a pair.': 0.41666666666666663, 'Upon hearing this, Katniss searches for Peeta and finds him with an infected sword wound in the leg.': 0.3333333333333333, \"She portrays herself as deeply in love with him and gains a sponsor's gift of soup.\": 0.3333333333333333, 'An announcer proclaims a feast, where the thing each survivor needs most will be provided.': 0.375, 'Peeta begs her not to risk getting him medicine.': 0.25, 'Katniss promises not to go, but after he falls asleep, she heads to the feast.': 0.29166666666666663, 'Clove ambushes her and pins her down.': 0.08333333333333333, 'As Clove gloats, Thresh, the other District 11 tribute, kills Clove after overhearing her tormenting Katniss about killing Rue.': 0.45833333333333337, 'He spares Katniss \"just this time...for Rue\".': 0.125, 'The medicine works, keeping Peeta mobile.': 0.24999999999999997, 'After a battle, Katniss wounds Cato with an arrow and Peeta hurls him to the creatures below.': 0.29166666666666663, 'Katniss shoots Cato to spare him a prolonged death.': 0.25, 'With Peeta and Katniss apparently victorious, the rule change allowing two winners is suddenly revoked.': 0.4583333333333334, 'Peeta tells Katniss to shoot him.': 0.08333333333333333, 'Instead, she gives him half of the nightlock.': 0.29166666666666663, 'However, before they can commit suicide, they are hastily proclaimed the victors of the 74th Hunger Games.': 0.20833333333333331, 'Haymitch warns Katniss that she has made powerful enemies after her display of defiance.': 0.29166666666666663}\n"
     ]
    }
   ],
   "source": [
    "#%%\n",
    "print (sentence_scores_test)\n",
    "\n"
   ]
  },
  {
   "cell_type": "code",
   "execution_count": 18,
   "metadata": {},
   "outputs": [
    {
     "name": "stdout",
     "output_type": "stream",
     "text": [
      "The sentence_scores dictionary is 42303 rows long.\n"
     ]
    }
   ],
   "source": [
    "# Calculate Sentence Scores\n",
    "\n",
    "sentence_scores = {x:{} for x in range(size)}\n",
    "\n",
    "for i in range(size):\n",
    "    for sent in sentence_list[i]:\n",
    "        for word in nltk.word_tokenize(sent.lower()):\n",
    "            if word in word_frequencies[i].keys():\n",
    "                if len(sent.split(' ')) < 20: ## We have some very short ones. With this, they are excluded. Change this to specify how long/short of sentences you want to include\n",
    "                    if sent not in sentence_scores[i].keys():\n",
    "                        sentence_scores[i][sent] = word_frequencies[i][word]\n",
    "                    else:\n",
    "                        sentence_scores[i][sent] += word_frequencies[i][word]\n",
    "#QC. \n",
    "print('The sentence_scores dictionary is {0} rows long.'.format(len(sentence_scores)))\n",
    "\n",
    "\n"
   ]
  },
  {
   "cell_type": "code",
   "execution_count": 19,
   "metadata": {},
   "outputs": [
    {
     "name": "stdout",
     "output_type": "stream",
     "text": [
      "{'The nation of Panem consists of a wealthy Capitol and twelve poorer districts.': 0.24999999999999997, 'The tributes must fight to the death in an arena; the sole survivor is rewarded with fame and wealth.': 0.7083333333333333, 'In her first Reaping, 12-year-old Primrose Everdeen is chosen from District 12.': 0.20833333333333331, 'Her older sister Katniss volunteers to take her place.': 0.20833333333333331, 'Katniss and Peeta are taken to the Capitol, accompanied by their frequently drunk mentor, past victor Haymitch Abernathy.': 0.3333333333333333, 'He warns them about the \"Career\" tributes who train intensively at special academies and almost always win.': 0.5833333333333335, 'During a TV interview with Caesar Flickerman, Peeta unexpectedly reveals his love for Katniss.': 0.20833333333333331, 'However, she discovers Peeta meant what he said.': 0.125, 'Peeta forms an uneasy alliance with the four Careers.': 0.20833333333333331, 'They later find Katniss and corner her up a tree.': 0.20833333333333331, 'Rue, hiding in a nearby tree, draws her attention to a poisonous tracker jacker nest hanging from a branch.': 0.6249999999999999, 'Katniss drops it on her sleeping besiegers.': 0.125, 'They all scatter, except for Glimmer, who is killed by the insects.': 0.20833333333333331, 'Hallucinating due to tracker jacker venom, Katniss is warned to run away by Peeta.': 0.45833333333333326, 'Rue cares for Katniss for a couple of days until she recovers.': 0.16666666666666666, 'Meanwhile, the alliance has gathered all the supplies into a pile.': 0.24999999999999997, 'Katniss has Rue draw them off, then destroys the stockpile by setting off the mines planted around it.': 0.3333333333333333, 'Furious, Cato kills the boy assigned to guard it.': 0.24999999999999997, 'As Katniss runs from the scene, she hears Rue calling her name.': 0.20833333333333331, 'She finds Rue trapped and releases her.': 0.16666666666666666, 'Katniss shoots him dead with an arrow.': 0.20833333333333331, 'She then comforts the dying Rue with a song.': 0.125, \"Afterward, she gathers and arranges flowers around Rue's body.\": 0.24999999999999997, \"When this is televised, it sparks a riot in Rue's District 11.\": 0.25, 'President Snow summons Seneca Crane, the Gamemaker, to express his displeasure at the way the Games are turning out.': 0.20833333333333331, 'It is announced that tributes from the same district can win as a pair.': 0.41666666666666663, 'Upon hearing this, Katniss searches for Peeta and finds him with an infected sword wound in the leg.': 0.3333333333333333, \"She portrays herself as deeply in love with him and gains a sponsor's gift of soup.\": 0.3333333333333333, 'An announcer proclaims a feast, where the thing each survivor needs most will be provided.': 0.375, 'Peeta begs her not to risk getting him medicine.': 0.25, 'Katniss promises not to go, but after he falls asleep, she heads to the feast.': 0.29166666666666663, 'Clove ambushes her and pins her down.': 0.08333333333333333, 'As Clove gloats, Thresh, the other District 11 tribute, kills Clove after overhearing her tormenting Katniss about killing Rue.': 0.45833333333333337, 'He spares Katniss \"just this time...for Rue\".': 0.125, 'The medicine works, keeping Peeta mobile.': 0.24999999999999997, 'After a battle, Katniss wounds Cato with an arrow and Peeta hurls him to the creatures below.': 0.29166666666666663, 'Katniss shoots Cato to spare him a prolonged death.': 0.25, 'With Peeta and Katniss apparently victorious, the rule change allowing two winners is suddenly revoked.': 0.4583333333333334, 'Peeta tells Katniss to shoot him.': 0.08333333333333333, 'Instead, she gives him half of the nightlock.': 0.29166666666666663, 'However, before they can commit suicide, they are hastily proclaimed the victors of the 74th Hunger Games.': 0.20833333333333331, 'Haymitch warns Katniss that she has made powerful enemies after her display of defiance.': 0.29166666666666663}\n"
     ]
    }
   ],
   "source": [
    "\n",
    "#%%\n",
    "#QC sentence score of the hunger games. It should be same with above example. \n",
    "print (sentence_scores[1])"
   ]
  },
  {
   "cell_type": "code",
   "execution_count": 20,
   "metadata": {},
   "outputs": [
    {
     "name": "stdout",
     "output_type": "stream",
     "text": [
      "The tributes must fight to the death in an arena; the sole survivor is rewarded with fame and wealth. Rue, hiding in a nearby tree, draws her attention to a poisonous tracker jacker nest hanging from a branch.\n"
     ]
    }
   ],
   "source": [
    "#single example for Summary\n",
    "summary_sentences_test = heapq.nlargest(2, sentence_scores[1], key=sentence_scores[1].get)\n",
    "\n",
    "summary_test = ' '.join(summary_sentences_test)\n",
    "print(summary_test)\n",
    "#the results should in the order of highest to the lowest\n",
    "\n"
   ]
  },
  {
   "cell_type": "code",
   "execution_count": 24,
   "metadata": {},
   "outputs": [
    {
     "name": "stdout",
     "output_type": "stream",
     "text": [
      "['The tributes must fight to the death in an arena; the sole survivor is rewarded with fame and wealth.', 'Rue, hiding in a nearby tree, draws her attention to a poisonous tracker jacker nest hanging from a branch.']\n"
     ]
    }
   ],
   "source": [
    "print(summary_sentences_test)\n",
    "#to understand what is different than summary_test\n",
    "\n"
   ]
  },
  {
   "cell_type": "code",
   "execution_count": 22,
   "metadata": {},
   "outputs": [
    {
     "name": "stdout",
     "output_type": "stream",
     "text": [
      "The summary_sentences list is 42303 rows long.\n"
     ]
    }
   ],
   "source": [
    "# Get a Summary\n",
    "# This needs to be better. Instead of summarizing the text defined above, this should be a for loop that\n",
    "# Runs a text summary on every row in the pandas data frame defined above\n",
    "\n",
    "#first part, creating a summary sentences list#\n",
    "\n",
    "#Change value here to get summary sentence length\n",
    "summary_sentences = [\"\" for x in range(size)]\n",
    "for i in range(size):\n",
    "    summary_sentences[i] = heapq.nlargest(2, sentence_scores[i], key=sentence_scores[i].get)\n",
    "\n",
    "#QC. \n",
    "print('The summary_sentences list is {0} rows long.'.format(len(summary_sentences)))\n",
    "\n"
   ]
  },
  {
   "cell_type": "code",
   "execution_count": 23,
   "metadata": {},
   "outputs": [
    {
     "name": "stdout",
     "output_type": "stream",
     "text": [
      "[[], ['The tributes must fight to the death in an arena; the sole survivor is rewarded with fame and wealth.', 'Rue, hiding in a nearby tree, draws her attention to a poisonous tracker jacker nest hanging from a branch.'], ['On his way back to peaceful life, Induchoodan accepts Anuradha as his life partner.', 'Poovalli Induchoodan is sentenced for six years prison life for murdering his classmate.'], [\"He decides to recover the money, sneaking into Charley's home in the guise of an elderly woman.\", 'Later that night, the Kid returns to the original Nellie Thursday home to meet with Moose Moran .'], ['When she discovers the infant is missing, everyone joins forces to search for her, without success.', 'The tide of public opinion soon turns against the Chamberlains.']]\n"
     ]
    }
   ],
   "source": [
    "print(summary_sentences[0:5])\n",
    "#should be two sentences in each"
   ]
  },
  {
   "cell_type": "code",
   "execution_count": 25,
   "metadata": {},
   "outputs": [
    {
     "name": "stdout",
     "output_type": "stream",
     "text": [
      "The summary list is 42303 rows long.\n"
     ]
    }
   ],
   "source": [
    "#now to get these two sentences separated '' into a joint sentences.\n",
    "summary = [\"\" for x in range(size)]\n",
    "for i in range(size):\n",
    "    summary[i] = ' '.join(summary_sentences[i])\n",
    "#QC. \n",
    "print('The summary list is {0} rows long.'.format(len(summary)))"
   ]
  },
  {
   "cell_type": "code",
   "execution_count": 26,
   "metadata": {},
   "outputs": [
    {
     "name": "stdout",
     "output_type": "stream",
     "text": [
      "['', 'The tributes must fight to the death in an arena; the sole survivor is rewarded with fame and wealth. Rue, hiding in a nearby tree, draws her attention to a poisonous tracker jacker nest hanging from a branch.', 'On his way back to peaceful life, Induchoodan accepts Anuradha as his life partner. Poovalli Induchoodan is sentenced for six years prison life for murdering his classmate.', \"He decides to recover the money, sneaking into Charley's home in the guise of an elderly woman. Later that night, the Kid returns to the original Nellie Thursday home to meet with Moose Moran .\", 'When she discovers the infant is missing, everyone joins forces to search for her, without success. The tide of public opinion soon turns against the Chamberlains.']\n"
     ]
    }
   ],
   "source": [
    "print(summary[0:5])"
   ]
  },
  {
   "cell_type": "code",
   "execution_count": 43,
   "metadata": {},
   "outputs": [],
   "source": [
    "# OK, now it is time to score the summaries on arousal, valence, and dominance. There is a nice dictionary by\n",
    "# Bradley and Lang that will let you do exactly that. You can borrow that here:\n",
    "# https://github.com/dwzhou/SentimentAnalysis\n",
    "\n",
    "# Biasically, you'll want to classify each cell in the Pandas Dataframe (where each cell contains a movie summary)\n",
    "# along arousal, valence, and dominance. So we can get a score for each."
   ]
  },
  {
   "cell_type": "code",
   "execution_count": 39,
   "metadata": {},
   "outputs": [],
   "source": [
    "# Note: this is super optional and likely not necissary. You could, instead of using a dictionary approach,\n",
    "# Train a classifier to do your sentiment analysis. This would be cooler, but also probably a lot of work\n",
    "# And I'm not sure it would gain us all that much. But if you are feeling energetic, or the Lang dictionary\n",
    "# doesn't work, here is some hints about training a classifier.\n",
    "\n",
    "#Train a text sentiment classifier. Here we are in good shape because most are trained on movie ratings\n",
    "# But you could also train the classifier on the un summarized movie reviews\n",
    "# For ideas on how to do this, check out: https://towardsdatascience.com/sentiment-analysis-with-python-part-1-5ce197074184"
   ]
  },
  {
   "cell_type": "code",
   "execution_count": 27,
   "metadata": {},
   "outputs": [
    {
     "name": "stderr",
     "output_type": "stream",
     "text": [
      "[nltk_data] Downloading package averaged_perceptron_tagger to\n",
      "[nltk_data]     /Users/ezgiulusoy/nltk_data...\n",
      "[nltk_data]   Package averaged_perceptron_tagger is already up-to-\n",
      "[nltk_data]       date!\n",
      "[nltk_data] Downloading package wordnet to\n",
      "[nltk_data]     /Users/ezgiulusoy/nltk_data...\n",
      "[nltk_data]   Package wordnet is already up-to-date!\n"
     ]
    },
    {
     "data": {
      "text/plain": [
       "True"
      ]
     },
     "execution_count": 27,
     "metadata": {},
     "output_type": "execute_result"
    }
   ],
   "source": [
    "#%%\n",
    "# Author: Doris Zhou\n",
    "# Date: September 29, 2017\n",
    "# Performs sentiment analysis on a text file using ANEW.\n",
    "# Parameters:\n",
    " #   --dir [path of directory]\n",
    "  #      specifies directory of files to analyze\n",
    " #   --file [path of text file]\n",
    "   #     specifies location of specific file to analyze\n",
    "  #  --out [path of directory]\n",
    "    #    specifies directory to create output files\n",
    "   # --mode [mode]\n",
    "   #     takes either \"median\" or \"mean\"; determines which is used to calculate sentence sentiment values\n",
    "# add parameter to exclude duplicates? also mean or median analysis\n",
    "   \n",
    "   #as mentioned on the website and the website of Stanford NLP, you might need to (pip) install few extra things  \n",
    "\n",
    "import csv\n",
    "import sys\n",
    "import os\n",
    "#MacOS users have to use sudo to run the program.\n",
    "os.system(\"sudo -t /Users/ezgiulusoy/Downloads/stanford-corenlp-full-2018-10-05/_psosx.py\") #This py file was the problematic for me so I only use root for that.\n",
    "import statistics\n",
    "import time\n",
    "import argparse\n",
    "from stanfordcorenlp import StanfordCoreNLP\n",
    "\n",
    "\n",
    "nlp = StanfordCoreNLP('/Users/ezgiulusoy/Downloads/stanford-corenlp-full-2018-10-05') #write the path to corenlp downloaded from https://stanfordnlp.github.io/CoreNLP/ \n",
    "\n",
    "from nltk import tokenize\n",
    "from nltk.corpus import stopwords\n",
    "from nltk import pos_tag #it was not in the original file but I needed this.\n",
    "nltk.download('averaged_perceptron_tagger') #these will be used in the analysis. You might need to pip install nltk from Terminal first. \n",
    "nltk.download('wordnet')\n",
    "\n"
   ]
  },
  {
   "cell_type": "code",
   "execution_count": 28,
   "metadata": {},
   "outputs": [],
   "source": [
    "\n",
    "stops = set(stopwords.words(\"english\"))\n",
    "anew = \"/Users/ezgiulusoy/Downloads/SentimentAnalysis-master/lib/EnglishShortened.csv\" #write your own path here to the EnglishShortened.csv available on github link for this analysis.\n"
   ]
  },
  {
   "cell_type": "code",
   "execution_count": null,
   "metadata": {},
   "outputs": [],
   "source": [
    "#%%\n",
    "##I SKIPPED THIS PART SINCE I HAVE THE DATA IN THE PROGRAM CURRENTLY##\n",
    "\n",
    "# performs sentiment analysis on inputFile using the ANEW database, outputting results to a new CSV file in outputDir\n",
    "def analyzefile(input_file, output_dir, mode):\n",
    "    \"\"\"\n",
    "    Performs sentiment analysis on the text file given as input using the ANEW database.\n",
    "    Outputs results to a new CSV file in output_dir.\n",
    "    :param input_file: path of .txt file to analyze\n",
    "    :param output_dir: path of directory to create new output file\n",
    "    :param mode: determines how sentiment values for a sentence are computed (median or mean)\n",
    "    :return:\n",
    "    \"\"\"\n",
    "    output_file = os.path.join(output_dir, \"Output Anew Sentiment \" + os.path.basename(input_file).rstrip('.txt') + \".csv\")\n",
    "\n",
    "    # read file into string\n",
    "    with open(input_file, 'r') as myfile:\n",
    "        fulltext = myfile.read()\n",
    "    # end method if file is empty\n",
    "    if len(fulltext) < 1:\n",
    "        print('Empty file.')\n",
    "        return"
   ]
  },
  {
   "cell_type": "code",
   "execution_count": 30,
   "metadata": {},
   "outputs": [],
   "source": [
    "from nltk.stem.wordnet import WordNetLemmatizer\n",
    "lmtzr = WordNetLemmatizer()"
   ]
  },
  {
   "cell_type": "code",
   "execution_count": 34,
   "metadata": {},
   "outputs": [],
   "source": [
    " # QC for one sentence -- not working completely yet. \n",
    "      \n",
    "sentences_test = sentence_list [0]\n",
    "i = 1 # to store sentence index\n",
    "# check each word in sentence for sentiment and write to output_file\n",
    "#write your own output file \n",
    "with open('/Users/ezgiulusoy/Desktop/output', 'w', newline='') as csvfile:\n",
    "    fieldnames = ['Sentence ID', 'Sentence', 'Sentiment', 'Sentiment Label', 'Arousal', 'Dominance',\n",
    "                    '# Words Found', 'Found Words', 'All Words']\n",
    "    writer = csv.DictWriter(csvfile, fieldnames=fieldnames)\n",
    "    writer.writeheader()\n",
    "\n",
    "    # analyze each sentence for sentiment\n",
    "    for s in sentences_test:\n",
    "        #print(\"S\" + str(i) +\": \" + s)\n",
    "        all_words = []\n",
    "        found_words = []\n",
    "        total_words = 0\n",
    "        v_list = []  # holds valence scores\n",
    "        a_list = []  # holds arousal scores\n",
    "        d_list = []  # holds dominance scores\n",
    "            \n",
    "        # search for each valid word's sentiment in ANEW\n",
    "        pos_tag(word_tokenize(sentences_test[0]))\n",
    "        words = nlp.pos_tag(s.lower())\n",
    "        for index, p in enumerate(words):\n",
    "            # don't process stops or words w/ punctuation\n",
    "            w = p[0]\n",
    "            pos = p[1]\n",
    "            if w in stops or not w.isalpha():\n",
    "                continue\n",
    "\n",
    "            # check for negation in 3 words before current word\n",
    "            j = index-1\n",
    "            neg = False\n",
    "            while j >= 0 and j >= index-3:\n",
    "                if words[j][0] == 'not' or words[j][0] == 'no' or words[j][0] == 'n\\'t':\n",
    "                    neg = True\n",
    "                    break\n",
    "                j -= 1\n",
    "\n",
    "            # lemmatize word based on pos\n",
    "            if pos[0] == 'N' or pos[0] == 'V':\n",
    "                lemma = lmtzr.lemmatize(w, pos=pos[0].lower())\n",
    "            else:\n",
    "                lemma = w\n",
    "\n",
    "            all_words.append(lemma)\n",
    "\n",
    "            # search for lemmatized word in ANEW\n",
    "            with open(anew) as csvfile:\n",
    "                reader = csv.DictReader(csvfile)\n",
    "                for row in reader:\n",
    "                    if row['Word'].casefold() == lemma.casefold():\n",
    "                        if neg:\n",
    "                            found_words.append(\"neg-\"+lemma)\n",
    "                        else:\n",
    "                            found_words.append(lemma)\n",
    "                        v = float(row['valence'])\n",
    "                        a = float(row['arousal'])\n",
    "                        d = float(row['dominance'])\n",
    "\n",
    "                        if neg:\n",
    "                            # reverse polarity for this word\n",
    "                            v = 5 - (v - 5)\n",
    "                            a = 5 - (a - 5)\n",
    "                            d = 5 - (d - 5)\n",
    "\n",
    "                        v_list.append(v)\n",
    "                        a_list.append(a)\n",
    "                        d_list.append(d)\n",
    "\n",
    "        if len(found_words) == 0:  # no words found in ANEW for this sentence\n",
    "            writer.writerow({'Sentence ID': i,\n",
    "                                'Sentence': s,\n",
    "                                'Sentiment': 'N/A',\n",
    "                                'Sentiment Label': 'N/A',\n",
    "                                'Arousal': 'N/A',\n",
    "                                'Dominance': 'N/A',\n",
    "                                '# Words Found': 0,\n",
    "                                'Found Words': 'N/A',\n",
    "                                'All Words': all_words\n",
    "                                })\n",
    "            i += 1\n",
    "        else:  # output sentiment info for this sentence\n",
    "\n",
    "            # get values\n",
    "            mode = [] #I added this because I skipped inputfile section above\n",
    "            if mode == 'median':\n",
    "                sentiment = statistics.median(v_list)\n",
    "                arousal = statistics.median(a_list)\n",
    "                dominance = statistics.median(d_list)\n",
    "            else:\n",
    "                sentiment = statistics.mean(v_list)\n",
    "                arousal = statistics.mean(a_list)\n",
    "                dominance = statistics.mean(d_list)\n",
    "\n",
    "            # set sentiment label\n",
    "            label = 'neutral'\n",
    "            if sentiment > 6:\n",
    "                label = 'positive'\n",
    "            elif sentiment < 4:\n",
    "                label = 'negative'\n",
    "                \n",
    "            writer.writerow({'Sentence ID': i,  #this section does not work on spyder but for some readon just worked here.\n",
    "                                'Sentence': s,\n",
    "                                'Sentiment': sentiment,\n",
    "                                'Sentiment Label': label,\n",
    "                                'Arousal': arousal,\n",
    "                                'Dominance': dominance,\n",
    "                                '# Words Found': (\"%d out of %d\" % (len(found_words), len(all_words))),\n",
    "                                'Found Words': found_words,\n",
    "                                'All Words': all_words\n",
    "                                })\n",
    "            i += 1\n",
    "\n",
    " "
   ]
  },
  {
   "cell_type": "code",
   "execution_count": null,
   "metadata": {},
   "outputs": [],
   "source": [
    "#I did not yet come to this section.\n",
    "def main(input_file, input_dir, output_dir, mode):\n",
    "    \"\"\"\n",
    "    Runs analyzefile on the appropriate files, provided that the input paths are valid.\n",
    "    :param input_file:\n",
    "    :param input_dir:\n",
    "    :param output_dir:\n",
    "    :param mode:\n",
    "    :return:\n",
    "    \"\"\"\n",
    "\n",
    "    if len(output_dir) < 0 or not os.path.exists(output_dir):  # empty output\n",
    "        print('No output directory specified, or path does not exist')\n",
    "        sys.exit(0)\n",
    "    elif len(input_file) == 0 and len(input_dir)  == 0:  # empty input\n",
    "        print('No input specified. Please give either a single file or a directory of files to analyze.')\n",
    "        sys.exit(1)\n",
    "    elif len(input_file) > 0:  # handle single file\n",
    "        if os.path.exists(input_file):\n",
    "            analyzefile(input_file, output_dir, mode)\n",
    "        else:\n",
    "            print('Input file \"' + input_file + '\" is invalid.')\n",
    "            sys.exit(0)\n",
    "    elif len(input_dir) > 0:  # handle directory\n",
    "        if os.path.isdir(input_dir):\n",
    "            directory = os.fsencode(input_dir)\n",
    "            for file in os.listdir(directory):\n",
    "                filename = os.path.join(input_dir, os.fsdecode(file))\n",
    "                if filename.endswith(\".txt\"):\n",
    "                    start_time = time.time()\n",
    "                    print(\"Starting sentiment analysis of \" + filename + \"...\")\n",
    "                    analyzefile(filename, output_dir, mode)\n",
    "                    print(\"Finished analyzing \" + filename + \" in \" + str((time.time() - start_time)) + \" seconds\")\n",
    "        else:\n",
    "            print('Input directory \"' + input_dir + '\" is invalid.')\n",
    "            sys.exit(0)\n",
    "\n",
    "\n",
    "if __name__ == '__main__':\n",
    "    # get arguments from command line\n",
    "    parser = argparse.ArgumentParser(description='Sentiment analysis with ANEW.')\n",
    "    parser.add_argument('--file', type=str, dest='input_file', default='',\n",
    "                        help='a string to hold the path of one file to process')\n",
    "    parser.add_argument('--dir', type=str, dest='input_dir', default='',\n",
    "                        help='a string to hold the path of a directory of files to process')\n",
    "    parser.add_argument('--out', type=str, dest='output_dir', default='',\n",
    "                        help='a string to hold the path of the output directory')\n",
    "    parser.add_argument('--mode', type=str, dest='mode', default='mean',\n",
    "                        help='mode with which to calculate sentiment in the sentence: mean or median')\n",
    "    args = parser.parse_args()\n",
    "\n",
    "    # run main\n",
    "    sys.exit(main(args.input_file, args.input_dir, args.output_dir, args.mode))\n",
    "\n",
    "\n",
    "\n"
   ]
  }
 ],
 "metadata": {
  "kernelspec": {
   "display_name": "Python 3",
   "language": "python",
   "name": "python3"
  },
  "language_info": {
   "codemirror_mode": {
    "name": "ipython",
    "version": 3
   },
   "file_extension": ".py",
   "mimetype": "text/x-python",
   "name": "python",
   "nbconvert_exporter": "python",
   "pygments_lexer": "ipython3",
   "version": "3.7.5"
  }
 },
 "nbformat": 4,
 "nbformat_minor": 2
}
