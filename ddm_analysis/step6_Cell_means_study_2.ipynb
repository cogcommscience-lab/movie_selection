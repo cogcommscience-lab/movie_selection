{
 "cells": [
  {
   "cell_type": "code",
   "execution_count": 1,
   "id": "closed-bachelor",
   "metadata": {},
   "outputs": [
    {
     "name": "stdout",
     "output_type": "stream",
     "text": [
      "0.8.0\n"
     ]
    },
    {
     "name": "stderr",
     "output_type": "stream",
     "text": [
      "/home/jasongong/.local/lib/python3.7/site-packages/IPython/parallel.py:13: ShimWarning: The `IPython.parallel` package has been deprecated since IPython 4.0. You should import from ipyparallel instead.\n",
      "  \"You should import from ipyparallel instead.\", ShimWarning)\n"
     ]
    }
   ],
   "source": [
    "import ipyparallel\n",
    "import hddm\n",
    "import pandas as pd\n",
    "import matplotlib.pyplot as plt\n",
    "import numpy as np\n",
    "%matplotlib inline\n",
    "\n",
    "print(hddm.__version__)"
   ]
  },
  {
   "cell_type": "markdown",
   "id": "polyphonic-indicator",
   "metadata": {},
   "source": [
    "# load the data"
   ]
  },
  {
   "cell_type": "code",
   "execution_count": 2,
   "id": "variable-complaint",
   "metadata": {},
   "outputs": [],
   "source": [
    "data = hddm.load_csv('data/study2.csv')"
   ]
  },
  {
   "cell_type": "code",
   "execution_count": 3,
   "id": "biological-clearing",
   "metadata": {},
   "outputs": [
    {
     "data": {
      "text/html": [
       "<div>\n",
       "<style scoped>\n",
       "    .dataframe tbody tr th:only-of-type {\n",
       "        vertical-align: middle;\n",
       "    }\n",
       "\n",
       "    .dataframe tbody tr th {\n",
       "        vertical-align: top;\n",
       "    }\n",
       "\n",
       "    .dataframe thead th {\n",
       "        text-align: right;\n",
       "    }\n",
       "</style>\n",
       "<table border=\"1\" class=\"dataframe\">\n",
       "  <thead>\n",
       "    <tr style=\"text-align: right;\">\n",
       "      <th></th>\n",
       "      <th>Unnamed: 0</th>\n",
       "      <th>subj_idx</th>\n",
       "      <th>stim</th>\n",
       "      <th>rt</th>\n",
       "      <th>response</th>\n",
       "      <th>group</th>\n",
       "      <th>arousal</th>\n",
       "      <th>valence</th>\n",
       "      <th>participant</th>\n",
       "    </tr>\n",
       "  </thead>\n",
       "  <tbody>\n",
       "    <tr>\n",
       "      <th>0</th>\n",
       "      <td>1</td>\n",
       "      <td>0</td>\n",
       "      <td>0V0A</td>\n",
       "      <td>6.05310</td>\n",
       "      <td>1</td>\n",
       "      <td>group4</td>\n",
       "      <td>3</td>\n",
       "      <td>3</td>\n",
       "      <td>96107</td>\n",
       "    </tr>\n",
       "    <tr>\n",
       "      <th>1</th>\n",
       "      <td>2</td>\n",
       "      <td>0</td>\n",
       "      <td>0V0A</td>\n",
       "      <td>5.08070</td>\n",
       "      <td>1</td>\n",
       "      <td>group4</td>\n",
       "      <td>3</td>\n",
       "      <td>3</td>\n",
       "      <td>96107</td>\n",
       "    </tr>\n",
       "    <tr>\n",
       "      <th>2</th>\n",
       "      <td>3</td>\n",
       "      <td>0</td>\n",
       "      <td>0V0A</td>\n",
       "      <td>4.06150</td>\n",
       "      <td>1</td>\n",
       "      <td>group4</td>\n",
       "      <td>3</td>\n",
       "      <td>3</td>\n",
       "      <td>96107</td>\n",
       "    </tr>\n",
       "    <tr>\n",
       "      <th>3</th>\n",
       "      <td>4</td>\n",
       "      <td>0</td>\n",
       "      <td>0V0A</td>\n",
       "      <td>-1.90120</td>\n",
       "      <td>0</td>\n",
       "      <td>group4</td>\n",
       "      <td>3</td>\n",
       "      <td>3</td>\n",
       "      <td>96107</td>\n",
       "    </tr>\n",
       "    <tr>\n",
       "      <th>4</th>\n",
       "      <td>5</td>\n",
       "      <td>0</td>\n",
       "      <td>0V0A</td>\n",
       "      <td>5.63570</td>\n",
       "      <td>1</td>\n",
       "      <td>group4</td>\n",
       "      <td>3</td>\n",
       "      <td>3</td>\n",
       "      <td>96107</td>\n",
       "    </tr>\n",
       "    <tr>\n",
       "      <th>...</th>\n",
       "      <td>...</td>\n",
       "      <td>...</td>\n",
       "      <td>...</td>\n",
       "      <td>...</td>\n",
       "      <td>...</td>\n",
       "      <td>...</td>\n",
       "      <td>...</td>\n",
       "      <td>...</td>\n",
       "      <td>...</td>\n",
       "    </tr>\n",
       "    <tr>\n",
       "      <th>17775</th>\n",
       "      <td>17776</td>\n",
       "      <td>163</td>\n",
       "      <td>1Vne1A</td>\n",
       "      <td>-10.02613</td>\n",
       "      <td>0</td>\n",
       "      <td>group1</td>\n",
       "      <td>4</td>\n",
       "      <td>4</td>\n",
       "      <td>77556</td>\n",
       "    </tr>\n",
       "    <tr>\n",
       "      <th>17776</th>\n",
       "      <td>17777</td>\n",
       "      <td>163</td>\n",
       "      <td>1Vne1A</td>\n",
       "      <td>6.66940</td>\n",
       "      <td>1</td>\n",
       "      <td>group1</td>\n",
       "      <td>3</td>\n",
       "      <td>4</td>\n",
       "      <td>77556</td>\n",
       "    </tr>\n",
       "    <tr>\n",
       "      <th>17777</th>\n",
       "      <td>17778</td>\n",
       "      <td>163</td>\n",
       "      <td>1Vne1A</td>\n",
       "      <td>2.12080</td>\n",
       "      <td>1</td>\n",
       "      <td>group1</td>\n",
       "      <td>3</td>\n",
       "      <td>4</td>\n",
       "      <td>77556</td>\n",
       "    </tr>\n",
       "    <tr>\n",
       "      <th>17778</th>\n",
       "      <td>17779</td>\n",
       "      <td>163</td>\n",
       "      <td>1Vne1A</td>\n",
       "      <td>-2.15360</td>\n",
       "      <td>0</td>\n",
       "      <td>group1</td>\n",
       "      <td>3</td>\n",
       "      <td>4</td>\n",
       "      <td>77556</td>\n",
       "    </tr>\n",
       "    <tr>\n",
       "      <th>17779</th>\n",
       "      <td>17780</td>\n",
       "      <td>163</td>\n",
       "      <td>1Vne1A</td>\n",
       "      <td>-6.39500</td>\n",
       "      <td>0</td>\n",
       "      <td>group1</td>\n",
       "      <td>3</td>\n",
       "      <td>4</td>\n",
       "      <td>77556</td>\n",
       "    </tr>\n",
       "  </tbody>\n",
       "</table>\n",
       "<p>17780 rows × 9 columns</p>\n",
       "</div>"
      ],
      "text/plain": [
       "       Unnamed: 0  subj_idx    stim        rt  response   group  arousal  \\\n",
       "0               1         0    0V0A   6.05310         1  group4        3   \n",
       "1               2         0    0V0A   5.08070         1  group4        3   \n",
       "2               3         0    0V0A   4.06150         1  group4        3   \n",
       "3               4         0    0V0A  -1.90120         0  group4        3   \n",
       "4               5         0    0V0A   5.63570         1  group4        3   \n",
       "...           ...       ...     ...       ...       ...     ...      ...   \n",
       "17775       17776       163  1Vne1A -10.02613         0  group1        4   \n",
       "17776       17777       163  1Vne1A   6.66940         1  group1        3   \n",
       "17777       17778       163  1Vne1A   2.12080         1  group1        3   \n",
       "17778       17779       163  1Vne1A  -2.15360         0  group1        3   \n",
       "17779       17780       163  1Vne1A  -6.39500         0  group1        3   \n",
       "\n",
       "       valence  participant  \n",
       "0            3        96107  \n",
       "1            3        96107  \n",
       "2            3        96107  \n",
       "3            3        96107  \n",
       "4            3        96107  \n",
       "...        ...          ...  \n",
       "17775        4        77556  \n",
       "17776        4        77556  \n",
       "17777        4        77556  \n",
       "17778        4        77556  \n",
       "17779        4        77556  \n",
       "\n",
       "[17780 rows x 9 columns]"
      ]
     },
     "execution_count": 3,
     "metadata": {},
     "output_type": "execute_result"
    }
   ],
   "source": [
    "data = hddm.utils.flip_errors(data)\n",
    "data"
   ]
  },
  {
   "cell_type": "code",
   "execution_count": 4,
   "id": "assisted-gothic",
   "metadata": {},
   "outputs": [],
   "source": [
    "data = data.drop(data[data.stim == '1Vne1A'].index)\n",
    "data['movie_valence'] = data.stim.str[:1]\n",
    "data['movie_arousal'] = data.stim.str[-2:-1]\n",
    "di = {'group1': \"1V1A\", 'group2': \"1V0A\", 'group3': \"0V1A\", 'group4': \"0V0A\"}\n",
    "data['group_code'] = data.group\n",
    "data = data.replace({\"group\": di})\n",
    "data['mood_valence'] = data.group.str[:1]\n",
    "data['mood_arousal'] = data.group.str[-2:-1]"
   ]
  },
  {
   "cell_type": "markdown",
   "id": "emerging-rally",
   "metadata": {},
   "source": [
    "# fit a HDDM with parameters depends on the 4 variables"
   ]
  },
  {
   "cell_type": "markdown",
   "id": "agricultural-national",
   "metadata": {},
   "source": [
    "### 2 (movie_valence) * 2 (movie_arousal) * 2 (mood_valence) * 2 (mood_arousal)"
   ]
  },
  {
   "cell_type": "code",
   "execution_count": 5,
   "id": "alive-count",
   "metadata": {},
   "outputs": [],
   "source": [
    "m_cell_means_all = hddm.HDDM(data, depends_on={'v': ['stim', 'group'],\n",
    "                                          'a': ['stim', 'group'],\n",
    "                                          't': ['stim', 'group'],\n",
    "                                          'z': ['stim', 'group']},\n",
    "                            include=('v', 'a', 't', 'z'),\n",
    "                            p_outlier=0.05)"
   ]
  },
  {
   "cell_type": "code",
   "execution_count": null,
   "id": "juvenile-stations",
   "metadata": {},
   "outputs": [],
   "source": [
    "m_cell_means_all.find_starting_values()\n",
    "m_cell_means_all.sample(10000, burn=2000, dbname='study2_cell_mean_all.db', db='pickle')\n",
    "m_cell_means_all.save('study2_cell_mean_all')"
   ]
  },
  {
   "cell_type": "code",
   "execution_count": null,
   "id": "attempted-reservation",
   "metadata": {},
   "outputs": [],
   "source": [
    "v_0V0A_0V0A, v_0V0A_0V1A, v_0V0A_1V0A, v_0V0A_1V1A, v_1V0A_0V0A, v_1V0A_0V1A, v_1V0A_1V0A, v_1V0A_1V1A, \\\n",
    "v_0V1A_0V0A, v_0V1A_0V1A, v_0V1A_1V0A, v_0V1A_1V1A, v_1V1A_0V0A, v_1V1A_0V1A, v_1V1A_1V0A, v_1V1A_1V1A, \\\n",
    "a_0V0A_0V0A, a_0V0A_0V1A, a_0V0A_1V0A, a_0V0A_1V1A, a_1V0A_0V0A, a_1V0A_0V1A, a_1V0A_1V0A, a_1V0A_1V1A, \\\n",
    "a_0V1A_0V0A, a_0V1A_0V1A, a_0V1A_1V0A, a_0V1A_1V1A, a_1V1A_0V0A, a_1V1A_0V1A, a_1V1A_1V0A, a_1V1A_1V1A, \\\n",
    "t_0V0A_0V0A, t_0V0A_0V1A, t_0V0A_1V0A, t_0V0A_1V1A, t_1V0A_0V0A, t_1V0A_0V1A, t_1V0A_1V0A, t_1V0A_1V1A, \\\n",
    "t_0V1A_0V0A, t_0V1A_0V1A, t_0V1A_1V0A, t_0V1A_1V1A, t_1V1A_0V0A, t_1V1A_0V1A, t_1V1A_1V0A, t_1V1A_1V1A, \\\n",
    "z_0V0A_0V0A, z_0V0A_0V1A, z_0V0A_1V0A, z_0V0A_1V1A, z_1V0A_0V0A, z_1V0A_0V1A, z_1V0A_1V0A, z_1V0A_1V1A, \\\n",
    "z_0V1A_0V0A, z_0V1A_0V1A, z_0V1A_1V0A, z_0V1A_1V1A, z_1V1A_0V0A, z_1V1A_0V1A, z_1V1A_1V0A, z_1V1A_1V1A = m_cell_means_all.nodes_db.loc[[\n",
    "    \"v(0V0A.0V0A)\",\n",
    "    \"v(0V0A.0V1A)\",\n",
    "    \"v(0V0A.1V0A)\",\n",
    "    \"v(0V0A.1V1A)\",\n",
    "    \"v(1V0A.0V0A)\",\n",
    "    \"v(1V0A.0V1A)\",\n",
    "    \"v(1V0A.1V0A)\",\n",
    "    \"v(1V0A.1V1A)\",\n",
    "    \"v(0V1A.0V0A)\",\n",
    "    \"v(0V1A.0V1A)\",\n",
    "    \"v(0V1A.1V0A)\",\n",
    "    \"v(0V1A.1V1A)\",\n",
    "    \"v(1V1A.0V0A)\",\n",
    "    \"v(1V1A.0V1A)\",\n",
    "    \"v(1V1A.1V0A)\",\n",
    "    \"v(1V1A.1V1A)\",\n",
    "    \n",
    "    \"a(0V0A.0V0A)\",\n",
    "    \"a(0V0A.0V1A)\",\n",
    "    \"a(0V0A.1V0A)\",\n",
    "    \"a(0V0A.1V1A)\",\n",
    "    \"a(1V0A.0V0A)\",\n",
    "    \"a(1V0A.0V1A)\",\n",
    "    \"a(1V0A.1V0A)\",\n",
    "    \"a(1V0A.1V1A)\",\n",
    "    \"a(0V1A.0V0A)\",\n",
    "    \"a(0V1A.0V1A)\",\n",
    "    \"a(0V1A.1V0A)\",\n",
    "    \"a(0V1A.1V1A)\",\n",
    "    \"a(1V1A.0V0A)\",\n",
    "    \"a(1V1A.0V1A)\",\n",
    "    \"a(1V1A.1V0A)\",\n",
    "    \"a(1V1A.1V1A)\",\n",
    "    \n",
    "    \"t(0V0A.0V0A)\",\n",
    "    \"t(0V0A.0V1A)\",\n",
    "    \"t(0V0A.1V0A)\",\n",
    "    \"t(0V0A.1V1A)\",\n",
    "    \"t(1V0A.0V0A)\",\n",
    "    \"t(1V0A.0V1A)\",\n",
    "    \"t(1V0A.1V0A)\",\n",
    "    \"t(1V0A.1V1A)\",\n",
    "    \"t(0V1A.0V0A)\",\n",
    "    \"t(0V1A.0V1A)\",\n",
    "    \"t(0V1A.1V0A)\",\n",
    "    \"t(0V1A.1V1A)\",\n",
    "    \"t(1V1A.0V0A)\",\n",
    "    \"t(1V1A.0V1A)\",\n",
    "    \"t(1V1A.1V0A)\",\n",
    "    \"t(1V1A.1V1A)\",\n",
    "    \n",
    "    \"z(0V0A.0V0A)\",\n",
    "    \"z(0V0A.0V1A)\",\n",
    "    \"z(0V0A.1V0A)\",\n",
    "    \"z(0V0A.1V1A)\",\n",
    "    \"z(1V0A.0V0A)\",\n",
    "    \"z(1V0A.0V1A)\",\n",
    "    \"z(1V0A.1V0A)\",\n",
    "    \"z(1V0A.1V1A)\",\n",
    "    \"z(0V1A.0V0A)\",\n",
    "    \"z(0V1A.0V1A)\",\n",
    "    \"z(0V1A.1V0A)\",\n",
    "    \"z(0V1A.1V1A)\",\n",
    "    \"z(1V1A.0V0A)\",\n",
    "    \"z(1V1A.0V1A)\",\n",
    "    \"z(1V1A.1V0A)\",\n",
    "    \"z(1V1A.1V1A)\",], 'node']"
   ]
  },
  {
   "cell_type": "markdown",
   "id": "early-state",
   "metadata": {},
   "source": [
    "## Create a dataframe includes the drift rate samples as DV and the IVs"
   ]
  },
  {
   "cell_type": "code",
   "execution_count": null,
   "id": "surface-pepper",
   "metadata": {},
   "outputs": [],
   "source": [
    "trace = np.concatenate((v_0V0A_0V0A.trace(), v_0V0A_0V1A.trace(), v_0V0A_1V0A.trace(), v_0V0A_1V1A.trace(),\n",
    "               v_1V0A_0V0A.trace(), v_1V0A_0V1A.trace(), v_1V0A_1V0A.trace(), v_1V0A_1V1A.trace(), \\\n",
    "               v_0V1A_0V0A.trace(), v_0V1A_0V1A.trace(), v_0V1A_1V0A.trace(), v_0V1A_1V1A.trace(), \\\n",
    "               v_1V1A_0V0A.trace(), v_1V1A_0V1A.trace(), v_1V1A_1V0A.trace(), v_1V1A_1V1A.trace()))"
   ]
  },
  {
   "cell_type": "code",
   "execution_count": null,
   "id": "capable-dominican",
   "metadata": {},
   "outputs": [],
   "source": [
    "mood = np.concatenate((np.repeat(\"0V0A\", 8000), np.repeat(\"0V0A\", 8000), np.repeat(\"0V0A\", 8000), np.repeat(\"0V0A\", 8000),\n",
    "               np.repeat(\"1V0A\", 8000), np.repeat(\"1V0A\", 8000), np.repeat(\"1V0A\", 8000), np.repeat(\"1V0A\", 8000),\n",
    "               np.repeat(\"0V1A\", 8000), np.repeat(\"0V1A\", 8000), np.repeat(\"0V1A\", 8000), np.repeat(\"0V1A\", 8000),\n",
    "               np.repeat(\"1V1A\", 8000), np.repeat(\"1V1A\", 8000), np.repeat(\"1V1A\", 8000), np.repeat(\"1V1A\", 8000)))"
   ]
  },
  {
   "cell_type": "code",
   "execution_count": null,
   "id": "informed-insight",
   "metadata": {},
   "outputs": [],
   "source": [
    "mood_valence = np.concatenate((np.repeat(\"negative valence\", 8000*4), \n",
    "               np.repeat(\"positive valence\", 8000*4),\n",
    "               np.repeat(\"negative valence\", 8000*4),\n",
    "               np.repeat(\"positive valence\", 8000*4)))"
   ]
  },
  {
   "cell_type": "code",
   "execution_count": null,
   "id": "trying-fountain",
   "metadata": {},
   "outputs": [],
   "source": [
    "mood_arousal = np.concatenate((np.repeat(\"low arousal\", 8000*8), \n",
    "               np.repeat(\"high arousal\", 8000*8)))"
   ]
  },
  {
   "cell_type": "code",
   "execution_count": null,
   "id": "presidential-excuse",
   "metadata": {},
   "outputs": [],
   "source": [
    "movie = np.concatenate((np.repeat(\"0V0A\", 8000), np.repeat(\"0V1A\", 8000), np.repeat(\"1V0A\", 8000), np.repeat(\"1V1A\", 8000),\n",
    "               np.repeat(\"0V0A\", 8000), np.repeat(\"0V1A\", 8000), np.repeat(\"1V0A\", 8000), np.repeat(\"1V1A\", 8000),\n",
    "               np.repeat(\"0V0A\", 8000), np.repeat(\"0V1A\", 8000), np.repeat(\"1V0A\", 8000), np.repeat(\"1V1A\", 8000),\n",
    "               np.repeat(\"0V0A\", 8000), np.repeat(\"0V1A\", 8000), np.repeat(\"1V0A\", 8000), np.repeat(\"1V1A\", 8000)))"
   ]
  },
  {
   "cell_type": "code",
   "execution_count": null,
   "id": "narrative-caution",
   "metadata": {},
   "outputs": [],
   "source": [
    "movie_valence = np.concatenate((np.repeat(\"negative valence\", 8000*2), np.repeat(\"positive valence\", 8000*2),\n",
    "               np.repeat(\"negative valence\", 8000*2), np.repeat(\"positive valence\", 8000*2),\n",
    "               np.repeat(\"negative valence\", 8000*2), np.repeat(\"positive valence\", 8000*2),\n",
    "               np.repeat(\"negative valence\", 8000*2), np.repeat(\"positive valence\", 8000*2)))"
   ]
  },
  {
   "cell_type": "code",
   "execution_count": null,
   "id": "heard-waters",
   "metadata": {},
   "outputs": [],
   "source": [
    "movie_arousal = np.tile(np.concatenate((np.repeat(\"low arousal\", 8000), np.repeat(\"high arousal\", 8000))),8)"
   ]
  },
  {
   "cell_type": "code",
   "execution_count": null,
   "id": "intensive-brand",
   "metadata": {},
   "outputs": [],
   "source": [
    "trace_df = pd.DataFrame({\"trace\": trace,\n",
    "                        \"movie\": movie,\n",
    "                        \"mood\": mood,\n",
    "                        \"movie_valence\": movie_valence,\n",
    "                        \"movie_arousal\": movie_arousal,\n",
    "                        \"mood_valence\": mood_valence,\n",
    "                        \"mood_arousal\": mood_arousal})"
   ]
  },
  {
   "cell_type": "code",
   "execution_count": 12,
   "id": "studied-postcard",
   "metadata": {},
   "outputs": [],
   "source": [
    "# save the dataframe for plotting\n",
    "trace_df.to_csv(\"plot/study2_cell_mean_trace_df.csv\")"
   ]
  },
  {
   "cell_type": "code",
   "execution_count": null,
   "id": "amateur-fetish",
   "metadata": {},
   "outputs": [],
   "source": []
  }
 ],
 "metadata": {
  "kernelspec": {
   "display_name": "Python 3",
   "language": "python",
   "name": "python3"
  },
  "language_info": {
   "codemirror_mode": {
    "name": "ipython",
    "version": 3
   },
   "file_extension": ".py",
   "mimetype": "text/x-python",
   "name": "python",
   "nbconvert_exporter": "python",
   "pygments_lexer": "ipython3",
   "version": "3.7.4"
  }
 },
 "nbformat": 4,
 "nbformat_minor": 5
}
