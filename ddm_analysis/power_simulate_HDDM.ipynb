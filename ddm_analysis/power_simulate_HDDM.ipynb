{
 "cells": [
  {
   "cell_type": "code",
   "execution_count": null,
   "id": "124415a0",
   "metadata": {},
   "outputs": [],
   "source": [
    "import matplotlib.pyplot as plt\n",
    "import hddm\n",
    "from IPython.display import clear_output"
   ]
  },
  {
   "cell_type": "code",
   "execution_count": 2,
   "id": "b88b8594",
   "metadata": {},
   "outputs": [],
   "source": [
    "import pandas as pd"
   ]
  },
  {
   "cell_type": "code",
   "execution_count": 13,
   "id": "48d4b0fe",
   "metadata": {},
   "outputs": [],
   "source": [
    "include = {'a', 't', 'v'}\n",
    "v = [0, 0.05, 0.1]\n",
    "cond_params, merged_params = hddm.generate.gen_rand_params(\n",
    "            include=include, cond_dict={\"v\": v}\n",
    "        )"
   ]
  },
  {
   "cell_type": "code",
   "execution_count": 15,
   "id": "2ee2b0d9",
   "metadata": {},
   "outputs": [],
   "source": [
    "true_params = {'a': cond_params['c0']['a'],\n",
    " 'v(c0)': cond_params['c0']['v'],\n",
    " 'v(c1)': cond_params['c1']['v'],\n",
    " 't': cond_params['c0']['t'],\n",
    "              'z': cond_params['c0']['z']}"
   ]
  },
  {
   "cell_type": "code",
   "execution_count": 98,
   "id": "86b9e275",
   "metadata": {},
   "outputs": [],
   "source": [
    "n_samples = 28\n",
    "n_subj = 140\n",
    "n_sim = 100"
   ]
  },
  {
   "cell_type": "code",
   "execution_count": null,
   "id": "e18200c1",
   "metadata": {},
   "outputs": [],
   "source": [
    "m_list = []\n",
    "true_params_list = []\n",
    "\n",
    "for k in range(n_sim):\n",
    "    print(k)\n",
    "    samples_list = []\n",
    "    true_params = []\n",
    "\n",
    "    for i in range(n_subj):\n",
    "        v = [0, 0.05, 0.1]\n",
    "        include = {'a', 't', 'v'}\n",
    "        cond_params, merged_params = hddm.generate.gen_rand_params(\n",
    "                    include=include, cond_dict={\"v\": v}\n",
    "                )\n",
    "\n",
    "        true_params.append(merged_params)\n",
    "\n",
    "        samples, _ = hddm.generate.gen_rand_data(cond_params, size=n_samples)\n",
    "        samples = hddm.utils.flip_errors(samples)\n",
    "        samples[\"subj_idx\"] = i\n",
    "        samples_list.append(samples)\n",
    "        \n",
    "    sim_df = pd.concat(samples_list)\n",
    "    sim_df.to_csv(\"power_sim_data/data/power_sim_data_{}.csv\".format(k))\n",
    "    true_params_list.append(true_params)"
   ]
  },
  {
   "cell_type": "code",
   "execution_count": 141,
   "id": "3d85e575",
   "metadata": {},
   "outputs": [],
   "source": [
    "for i in range(n_sim):\n",
    "    pd.DataFrame(true_params_list[i]).to_csv(\"power_sim_data/true_parameters/true_parameters_{}.csv\".format(i))"
   ]
  },
  {
   "cell_type": "code",
   "execution_count": 142,
   "id": "79b72492",
   "metadata": {},
   "outputs": [],
   "source": [
    "from multiprocessing import Pool"
   ]
  },
  {
   "cell_type": "code",
   "execution_count": 143,
   "id": "9368581b",
   "metadata": {},
   "outputs": [],
   "source": [
    "import logging\n",
    "logger = logging.getLogger('hddm')\n",
    "logger.setLevel(logging.ERROR)"
   ]
  },
  {
   "cell_type": "code",
   "execution_count": 144,
   "id": "d49e3037",
   "metadata": {},
   "outputs": [],
   "source": [
    "def sim_fit(i):\n",
    "    sim_df = pd.read_csv(\"power_sim_data/data/power_sim_data_{}.csv\".format(i))\n",
    "    \n",
    "    m = hddm.HDDM(sim_df, depends_on={'v': 'condition'}, p_outlier=.05)\n",
    "    \n",
    "    m.find_starting_values()\n",
    "    m.sample(1000, burn=500, dbname='power_sim_data/models/traces_hddm_power_{}.db'.format(i), db='pickle')\n",
    "    m.save(\"power_sim_data/models/power_model_sim_{}\".format(i))\n",
    "    \n",
    "    return m"
   ]
  },
  {
   "cell_type": "code",
   "execution_count": null,
   "id": "b8fcfb22",
   "metadata": {},
   "outputs": [],
   "source": [
    "with Pool(processes=12) as P:\n",
    "    power_sims = P.map(sim_fit, range(100))"
   ]
  },
  {
   "cell_type": "code",
   "execution_count": null,
   "id": "1f449e04",
   "metadata": {},
   "outputs": [],
   "source": []
  },
  {
   "cell_type": "code",
   "execution_count": 178,
   "id": "c0bfe074",
   "metadata": {},
   "outputs": [],
   "source": [
    "sim_result = []\n",
    "for i in range(len(power_sims)):\n",
    "\n",
    "    m = power_sims[i]\n",
    "    v_c0, v_c1, v_c2 = m.nodes_db.loc[[\"v(c0)\",\n",
    "                                   \"v(c1)\",\n",
    "                                   \"v(c2)\"], 'node']\n",
    "    \n",
    "    \n",
    "    sim_result.append({\"vc1 > 0\":(v_c1.trace() > 0).mean(),\n",
    "    \"vc2 > 0\": (v_c2.trace() > 0).mean(),\n",
    "    \"vc1 > vc0\": (v_c1.trace() > v_c0.trace()).mean(),\n",
    "    \"vc2 > vc1\": (v_c2.trace() > v_c1.trace()).mean(),\n",
    "    \"vc2 > vc0\": (v_c2.trace() > v_c0.trace()).mean()})"
   ]
  },
  {
   "cell_type": "code",
   "execution_count": 180,
   "id": "c9ae8582",
   "metadata": {},
   "outputs": [],
   "source": [
    "sim_result_df = pd.DataFrame(sim_result)"
   ]
  },
  {
   "cell_type": "code",
   "execution_count": 188,
   "id": "e04742d8",
   "metadata": {},
   "outputs": [
    {
     "data": {
      "text/plain": [
       "0.49"
      ]
     },
     "execution_count": 188,
     "metadata": {},
     "output_type": "execute_result"
    }
   ],
   "source": [
    "(sim_result_df[\"vc1 > 0\"] > 0.975).mean()"
   ]
  },
  {
   "cell_type": "code",
   "execution_count": 189,
   "id": "a5460a6e",
   "metadata": {},
   "outputs": [
    {
     "data": {
      "text/plain": [
       "0.94"
      ]
     },
     "execution_count": 189,
     "metadata": {},
     "output_type": "execute_result"
    }
   ],
   "source": [
    "(sim_result_df[\"vc2 > 0\"] > 0.975).mean()"
   ]
  },
  {
   "cell_type": "code",
   "execution_count": 190,
   "id": "978f4f73",
   "metadata": {},
   "outputs": [
    {
     "data": {
      "text/plain": [
       "0.4"
      ]
     },
     "execution_count": 190,
     "metadata": {},
     "output_type": "execute_result"
    }
   ],
   "source": [
    "(sim_result_df[\"vc1 > vc0\"] > 0.975).mean()"
   ]
  },
  {
   "cell_type": "code",
   "execution_count": null,
   "id": "814c57a3",
   "metadata": {},
   "outputs": [],
   "source": []
  },
  {
   "cell_type": "code",
   "execution_count": null,
   "id": "c9642843",
   "metadata": {},
   "outputs": [],
   "source": []
  },
  {
   "cell_type": "code",
   "execution_count": 176,
   "id": "50a47079",
   "metadata": {},
   "outputs": [],
   "source": [
    "v_c0, v_c1, v_c2 = power_sims[1].nodes_db.loc[[\"v(c0)\",\n",
    "                                   \"v(c1)\",\n",
    "                                   \"v(c2)\"], 'node']"
   ]
  },
  {
   "cell_type": "code",
   "execution_count": null,
   "id": "eb8b1d6d",
   "metadata": {},
   "outputs": [],
   "source": [
    "hddm.analyze.plot_posterior_nodes([v_c0, v_c1, v_c2])"
   ]
  },
  {
   "cell_type": "code",
   "execution_count": null,
   "id": "2780f239",
   "metadata": {},
   "outputs": [],
   "source": []
  }
 ],
 "metadata": {
  "kernelspec": {
   "display_name": "Python 3 (ipykernel)",
   "language": "python",
   "name": "python3"
  },
  "language_info": {
   "codemirror_mode": {
    "name": "ipython",
    "version": 3
   },
   "file_extension": ".py",
   "mimetype": "text/x-python",
   "name": "python",
   "nbconvert_exporter": "python",
   "pygments_lexer": "ipython3",
   "version": "3.7.4"
  }
 },
 "nbformat": 4,
 "nbformat_minor": 5
}
