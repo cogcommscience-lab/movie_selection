{
 "cells": [
  {
   "cell_type": "code",
   "execution_count": null,
   "id": "grand-clear",
   "metadata": {},
   "outputs": [],
   "source": [
    "import hddm"
   ]
  },
  {
   "cell_type": "markdown",
   "id": "round-medicare",
   "metadata": {},
   "source": [
    "# Fit 4 models for study 2 with identical specification"
   ]
  },
  {
   "cell_type": "code",
   "execution_count": null,
   "id": "logical-advertising",
   "metadata": {},
   "outputs": [],
   "source": [
    "data = hddm.load_csv('data/study2.csv')\n",
    "data = data.drop(data[data.stim == '1Vne1A'].index)\n",
    "data['movie_valence'] = data.stim.str[:1]\n",
    "data['movie_arousal'] = data.stim.str[-2:-1]\n",
    "di = {'group1': \"1V1A\", 'group2': \"1V0A\", 'group3': \"0V1A\", 'group4': \"0V0A\"}\n",
    "data['group_code'] = data.group\n",
    "data = data.replace({\"group\": di})\n",
    "data['mood_valence'] = data.group.str[:1]\n",
    "data['mood_arousal'] = data.group.str[-2:-1]\n",
    "\n",
    "models = []\n",
    "for i in range(4):\n",
    "    m = hddm.HDDMRegressor(data, [\"v ~ movie_valence + movie_arousal + mood_valence + mood_arousal\"\n",
    "                                   + \"+ movie_valence * mood_valence\"\n",
    "                                   + \"+ movie_arousal * mood_arousal\",\n",
    "                                   \"a ~ movie_valence + movie_arousal + mood_valence + mood_arousal\"\n",
    "                                   + \"+ movie_valence * mood_valence\"\n",
    "                                   + \"+ movie_arousal * mood_arousal\",\n",
    "                                   \"t ~ movie_valence + movie_arousal + mood_valence + mood_arousal\"\n",
    "                                   + \"+ movie_valence * mood_valence\"\n",
    "                                   + \"+ movie_arousal * mood_arousal\",\n",
    "                                   \"z ~ movie_valence + movie_arousal + mood_valence + mood_arousal\"\n",
    "                                   + \"+ movie_valence * mood_valence\"\n",
    "                                   + \"+ movie_arousal * mood_arousal\"],\n",
    "                            include=('v', 'a', 't', 'z'),\n",
    "                            p_outlier=0.05)\n",
    "\n",
    "    m.find_starting_values()\n",
    "    m.sample(10000, burn=2000, dbname='db1.db', db='pickle')\n",
    "    models.append(m)"
   ]
  },
  {
   "cell_type": "markdown",
   "id": "standard-filter",
   "metadata": {},
   "source": [
    "# Calculate the GR values for each parameter"
   ]
  },
  {
   "cell_type": "code",
   "execution_count": null,
   "id": "acting-improvement",
   "metadata": {},
   "outputs": [],
   "source": [
    "from kabuki.analyze import gelman_rubin\n",
    "convergence = gelman_rubin(models)"
   ]
  },
  {
   "cell_type": "markdown",
   "id": "piano-warehouse",
   "metadata": {},
   "source": [
    "# Print the GR value higher than the threthold value (1.1)"
   ]
  },
  {
   "cell_type": "code",
   "execution_count": 15,
   "id": "jewish-crossing",
   "metadata": {},
   "outputs": [
    {
     "data": {
      "text/plain": [
       "{'t_mood_valence[T.1]': 1.1094468009490848}"
      ]
     },
     "execution_count": 15,
     "metadata": {},
     "output_type": "execute_result"
    }
   ],
   "source": [
    "{k:v for (k,v) in convergence.items() if v > 1.1}"
   ]
  }
 ],
 "metadata": {
  "kernelspec": {
   "display_name": "Python 3",
   "language": "python",
   "name": "python3"
  },
  "language_info": {
   "codemirror_mode": {
    "name": "ipython",
    "version": 3
   },
   "file_extension": ".py",
   "mimetype": "text/x-python",
   "name": "python",
   "nbconvert_exporter": "python",
   "pygments_lexer": "ipython3",
   "version": "3.7.4"
  }
 },
 "nbformat": 4,
 "nbformat_minor": 5
}
