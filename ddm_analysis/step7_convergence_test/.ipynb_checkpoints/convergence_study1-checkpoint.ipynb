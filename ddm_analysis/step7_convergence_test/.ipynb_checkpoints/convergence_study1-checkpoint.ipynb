{
 "cells": [
  {
   "cell_type": "code",
   "execution_count": null,
   "id": "greek-kingston",
   "metadata": {},
   "outputs": [],
   "source": [
    "import hddm"
   ]
  },
  {
   "cell_type": "markdown",
   "id": "arbitrary-monkey",
   "metadata": {},
   "source": [
    "# Fit 4 models for study 1 with identical specification"
   ]
  },
  {
   "cell_type": "code",
   "execution_count": null,
   "id": "controversial-showcase",
   "metadata": {},
   "outputs": [],
   "source": [
    "data = hddm.load_csv('data/study1.csv')\n",
    "\n",
    "models = []\n",
    "\n",
    "for i in range(4):\n",
    "    m = hddm.HDDM(data, depends_on={'v': 'stim'}, p_outlier=.05)\n",
    "    m.find_starting_values()\n",
    "    m.sample(10000, burn=2000, dbname='traces_summer_hddm_new_1.db', db='pickle')\n",
    "    models.append(m)"
   ]
  },
  {
   "cell_type": "markdown",
   "id": "surprising-promise",
   "metadata": {},
   "source": [
    "# Calculate the GR values for each parameter"
   ]
  },
  {
   "cell_type": "code",
   "execution_count": null,
   "id": "fabulous-pennsylvania",
   "metadata": {},
   "outputs": [],
   "source": [
    "from kabuki.analyze import gelman_rubin\n",
    "convergence = gelman_rubin(models)"
   ]
  },
  {
   "cell_type": "markdown",
   "id": "manufactured-federation",
   "metadata": {},
   "source": [
    "# Print the GR value higher than the threthold value (1.1)"
   ]
  },
  {
   "cell_type": "code",
   "execution_count": null,
   "id": "whole-seeker",
   "metadata": {},
   "outputs": [],
   "source": [
    "{k:v for (k,v) in convergence.items() if v > 1.1}"
   ]
  }
 ],
 "metadata": {
  "kernelspec": {
   "display_name": "Python 3",
   "language": "python",
   "name": "python3"
  },
  "language_info": {
   "codemirror_mode": {
    "name": "ipython",
    "version": 3
   },
   "file_extension": ".py",
   "mimetype": "text/x-python",
   "name": "python",
   "nbconvert_exporter": "python",
   "pygments_lexer": "ipython3",
   "version": "3.7.4"
  }
 },
 "nbformat": 4,
 "nbformat_minor": 5
}
