{
 "cells": [
  {
   "cell_type": "code",
   "execution_count": 2,
   "id": "steady-differential",
   "metadata": {},
   "outputs": [
    {
     "name": "stdout",
     "output_type": "stream",
     "text": [
      "0.8.0\n"
     ]
    },
    {
     "name": "stderr",
     "output_type": "stream",
     "text": [
      "/home/jasongong/.local/lib/python3.7/site-packages/IPython/parallel.py:13: ShimWarning: The `IPython.parallel` package has been deprecated since IPython 4.0. You should import from ipyparallel instead.\n",
      "  \"You should import from ipyparallel instead.\", ShimWarning)\n"
     ]
    }
   ],
   "source": [
    "import hddm\n",
    "import pandas as pd\n",
    "import matplotlib.pyplot as plt\n",
    "import numpy as np\n",
    "\n",
    "%matplotlib inline\n",
    "\n",
    "print(hddm.__version__)"
   ]
  },
  {
   "cell_type": "markdown",
   "id": "racial-buying",
   "metadata": {},
   "source": [
    "# load data"
   ]
  },
  {
   "cell_type": "markdown",
   "id": "detected-language",
   "metadata": {},
   "source": [
    "### load RTs data"
   ]
  },
  {
   "cell_type": "code",
   "execution_count": 3,
   "id": "published-england",
   "metadata": {},
   "outputs": [
    {
     "data": {
      "text/html": [
       "<div>\n",
       "<style scoped>\n",
       "    .dataframe tbody tr th:only-of-type {\n",
       "        vertical-align: middle;\n",
       "    }\n",
       "\n",
       "    .dataframe tbody tr th {\n",
       "        vertical-align: top;\n",
       "    }\n",
       "\n",
       "    .dataframe thead th {\n",
       "        text-align: right;\n",
       "    }\n",
       "</style>\n",
       "<table border=\"1\" class=\"dataframe\">\n",
       "  <thead>\n",
       "    <tr style=\"text-align: right;\">\n",
       "      <th></th>\n",
       "      <th>subj_idx</th>\n",
       "      <th>stim</th>\n",
       "      <th>rt</th>\n",
       "      <th>response</th>\n",
       "    </tr>\n",
       "  </thead>\n",
       "  <tbody>\n",
       "    <tr>\n",
       "      <th>0</th>\n",
       "      <td>0</td>\n",
       "      <td>0V0A</td>\n",
       "      <td>3.6243</td>\n",
       "      <td>1</td>\n",
       "    </tr>\n",
       "    <tr>\n",
       "      <th>1</th>\n",
       "      <td>0</td>\n",
       "      <td>0V0A</td>\n",
       "      <td>-2.5559</td>\n",
       "      <td>0</td>\n",
       "    </tr>\n",
       "    <tr>\n",
       "      <th>2</th>\n",
       "      <td>0</td>\n",
       "      <td>0V0A</td>\n",
       "      <td>-3.5233</td>\n",
       "      <td>0</td>\n",
       "    </tr>\n",
       "    <tr>\n",
       "      <th>3</th>\n",
       "      <td>0</td>\n",
       "      <td>0V0A</td>\n",
       "      <td>-1.8405</td>\n",
       "      <td>0</td>\n",
       "    </tr>\n",
       "    <tr>\n",
       "      <th>4</th>\n",
       "      <td>0</td>\n",
       "      <td>0V0A</td>\n",
       "      <td>-1.8054</td>\n",
       "      <td>0</td>\n",
       "    </tr>\n",
       "    <tr>\n",
       "      <th>5</th>\n",
       "      <td>0</td>\n",
       "      <td>0V0A</td>\n",
       "      <td>-2.0442</td>\n",
       "      <td>0</td>\n",
       "    </tr>\n",
       "    <tr>\n",
       "      <th>6</th>\n",
       "      <td>0</td>\n",
       "      <td>0V0A</td>\n",
       "      <td>0.7801</td>\n",
       "      <td>1</td>\n",
       "    </tr>\n",
       "    <tr>\n",
       "      <th>7</th>\n",
       "      <td>0</td>\n",
       "      <td>0V0A</td>\n",
       "      <td>-2.9547</td>\n",
       "      <td>0</td>\n",
       "    </tr>\n",
       "    <tr>\n",
       "      <th>8</th>\n",
       "      <td>0</td>\n",
       "      <td>0V0A</td>\n",
       "      <td>3.0110</td>\n",
       "      <td>1</td>\n",
       "    </tr>\n",
       "    <tr>\n",
       "      <th>9</th>\n",
       "      <td>0</td>\n",
       "      <td>0V0A</td>\n",
       "      <td>1.7631</td>\n",
       "      <td>1</td>\n",
       "    </tr>\n",
       "  </tbody>\n",
       "</table>\n",
       "</div>"
      ],
      "text/plain": [
       "   subj_idx  stim      rt  response\n",
       "0         0  0V0A  3.6243         1\n",
       "1         0  0V0A -2.5559         0\n",
       "2         0  0V0A -3.5233         0\n",
       "3         0  0V0A -1.8405         0\n",
       "4         0  0V0A -1.8054         0\n",
       "5         0  0V0A -2.0442         0\n",
       "6         0  0V0A  0.7801         1\n",
       "7         0  0V0A -2.9547         0\n",
       "8         0  0V0A  3.0110         1\n",
       "9         0  0V0A  1.7631         1"
      ]
     },
     "execution_count": 3,
     "metadata": {},
     "output_type": "execute_result"
    }
   ],
   "source": [
    "data = hddm.load_csv('data/study1.csv')\n",
    "\n",
    "data = hddm.utils.flip_errors(data)\n",
    "data.head(10)"
   ]
  },
  {
   "cell_type": "code",
   "execution_count": 4,
   "id": "turned-liberia",
   "metadata": {},
   "outputs": [],
   "source": [
    "# drop subject 10 due to data convergence issue\n",
    "data = data.loc[~(data.subj_idx == 10),]"
   ]
  },
  {
   "cell_type": "markdown",
   "id": "ecological-arizona",
   "metadata": {},
   "source": [
    "# Confirmatory Model fitting - HDDM model"
   ]
  },
  {
   "cell_type": "code",
   "execution_count": null,
   "id": "grateful-metadata",
   "metadata": {},
   "outputs": [],
   "source": [
    "# fit the HDDM model with drift rate parameter\n",
    "# sample 10000 with 2000 burn-in samples\n",
    "# save the model\n",
    "m = hddm.HDDM(data, depends_on={'v': 'stim'}, p_outlier=.05)\n",
    "m.find_starting_values()\n",
    "m.sample(10000, burn=2000, dbname='traces_hddm.db', db='pickle')\n",
    "m.save('traces_hddm')"
   ]
  },
  {
   "cell_type": "markdown",
   "id": "sought-diagram",
   "metadata": {},
   "source": [
    "# Test correlation with measured mood"
   ]
  },
  {
   "cell_type": "code",
   "execution_count": 5,
   "id": "square-renaissance",
   "metadata": {},
   "outputs": [],
   "source": [
    "# load data for measured mood for each participants\n",
    "mood = pd.read_csv(\"data/study1_measured_mood.csv\")"
   ]
  },
  {
   "cell_type": "code",
   "execution_count": null,
   "id": "antique-washington",
   "metadata": {},
   "outputs": [],
   "source": [
    "# data wrangling\n",
    "subj_index_0V1A = [index for index in list(m.nodes_db.index) if \"v_subj(0V1A)\" in index]\n",
    "subj_index_1V0A = [index for index in list(m.nodes_db.index) if \"v_subj(1V0A)\" in index]\n",
    "node_0V1A = m.nodes_db.loc[subj_index_0V1A, 'node']\n",
    "node_1V0A = m.nodes_db.loc[subj_index_1V0A, 'node']\n",
    "v_0V1A_subj = []\n",
    "v_1V0A_subj = []\n",
    "for i in range(len(node_0V1A)):\n",
    "    v_0V1A_subj.append(node_0V1A[i].trace().mean())\n",
    "    v_1V0A_subj.append(node_1V0A[i].trace().mean())\n",
    "mood[\"v_0V1A\"] = v_0V1A_subj\n",
    "mood[\"v_1V0A\"] = v_1V0A_subj"
   ]
  },
  {
   "cell_type": "code",
   "execution_count": 7,
   "id": "unlike-episode",
   "metadata": {},
   "outputs": [
    {
     "data": {
      "text/html": [
       "<div>\n",
       "<style scoped>\n",
       "    .dataframe tbody tr th:only-of-type {\n",
       "        vertical-align: middle;\n",
       "    }\n",
       "\n",
       "    .dataframe tbody tr th {\n",
       "        vertical-align: top;\n",
       "    }\n",
       "\n",
       "    .dataframe thead th {\n",
       "        text-align: right;\n",
       "    }\n",
       "</style>\n",
       "<table border=\"1\" class=\"dataframe\">\n",
       "  <thead>\n",
       "    <tr style=\"text-align: right;\">\n",
       "      <th></th>\n",
       "      <th>subj_idx</th>\n",
       "      <th>movie_valence_measured</th>\n",
       "      <th>movie_arousal_measured</th>\n",
       "    </tr>\n",
       "  </thead>\n",
       "  <tbody>\n",
       "    <tr>\n",
       "      <th>0</th>\n",
       "      <td>0</td>\n",
       "      <td>3</td>\n",
       "      <td>1</td>\n",
       "    </tr>\n",
       "    <tr>\n",
       "      <th>1</th>\n",
       "      <td>1</td>\n",
       "      <td>3</td>\n",
       "      <td>2</td>\n",
       "    </tr>\n",
       "    <tr>\n",
       "      <th>2</th>\n",
       "      <td>2</td>\n",
       "      <td>4</td>\n",
       "      <td>2</td>\n",
       "    </tr>\n",
       "    <tr>\n",
       "      <th>3</th>\n",
       "      <td>3</td>\n",
       "      <td>3</td>\n",
       "      <td>2</td>\n",
       "    </tr>\n",
       "    <tr>\n",
       "      <th>4</th>\n",
       "      <td>4</td>\n",
       "      <td>3</td>\n",
       "      <td>3</td>\n",
       "    </tr>\n",
       "    <tr>\n",
       "      <th>...</th>\n",
       "      <td>...</td>\n",
       "      <td>...</td>\n",
       "      <td>...</td>\n",
       "    </tr>\n",
       "    <tr>\n",
       "      <th>135</th>\n",
       "      <td>155</td>\n",
       "      <td>5</td>\n",
       "      <td>3</td>\n",
       "    </tr>\n",
       "    <tr>\n",
       "      <th>136</th>\n",
       "      <td>156</td>\n",
       "      <td>4</td>\n",
       "      <td>2</td>\n",
       "    </tr>\n",
       "    <tr>\n",
       "      <th>137</th>\n",
       "      <td>158</td>\n",
       "      <td>3</td>\n",
       "      <td>1</td>\n",
       "    </tr>\n",
       "    <tr>\n",
       "      <th>138</th>\n",
       "      <td>160</td>\n",
       "      <td>3</td>\n",
       "      <td>2</td>\n",
       "    </tr>\n",
       "    <tr>\n",
       "      <th>139</th>\n",
       "      <td>161</td>\n",
       "      <td>4</td>\n",
       "      <td>2</td>\n",
       "    </tr>\n",
       "  </tbody>\n",
       "</table>\n",
       "<p>140 rows × 3 columns</p>\n",
       "</div>"
      ],
      "text/plain": [
       "     subj_idx  movie_valence_measured  movie_arousal_measured\n",
       "0           0                       3                       1\n",
       "1           1                       3                       2\n",
       "2           2                       4                       2\n",
       "3           3                       3                       2\n",
       "4           4                       3                       3\n",
       "..        ...                     ...                     ...\n",
       "135       155                       5                       3\n",
       "136       156                       4                       2\n",
       "137       158                       3                       1\n",
       "138       160                       3                       2\n",
       "139       161                       4                       2\n",
       "\n",
       "[140 rows x 3 columns]"
      ]
     },
     "execution_count": 7,
     "metadata": {},
     "output_type": "execute_result"
    }
   ],
   "source": [
    "mood"
   ]
  },
  {
   "cell_type": "code",
   "execution_count": 18,
   "id": "pending-bullet",
   "metadata": {},
   "outputs": [],
   "source": [
    "import pymc3 as pm"
   ]
  },
  {
   "cell_type": "code",
   "execution_count": 19,
   "id": "periodic-blowing",
   "metadata": {},
   "outputs": [
    {
     "name": "stderr",
     "output_type": "stream",
     "text": [
      "Auto-assigning NUTS sampler...\n",
      "Initializing NUTS using jitter+adapt_diag...\n",
      "Multiprocess sampling (4 chains in 4 jobs)\n",
      "NUTS: [sigma, beta, alpha]\n"
     ]
    },
    {
     "data": {
      "text/html": [
       "\n",
       "    <div>\n",
       "        <style>\n",
       "            /* Turns off some styling */\n",
       "            progress {\n",
       "                /* gets rid of default border in Firefox and Opera. */\n",
       "                border: none;\n",
       "                /* Needs to be in here for Safari polyfill so background images work as expected. */\n",
       "                background-size: auto;\n",
       "            }\n",
       "            .progress-bar-interrupted, .progress-bar-interrupted::-webkit-progress-bar {\n",
       "                background: #F44336;\n",
       "            }\n",
       "        </style>\n",
       "      <progress value='48000' class='' max='48000' style='width:300px; height:20px; vertical-align: middle;'></progress>\n",
       "      100.00% [48000/48000 00:15<00:00 Sampling 4 chains, 0 divergences]\n",
       "    </div>\n",
       "    "
      ],
      "text/plain": [
       "<IPython.core.display.HTML object>"
      ]
     },
     "metadata": {},
     "output_type": "display_data"
    },
    {
     "name": "stderr",
     "output_type": "stream",
     "text": [
      "Sampling 4 chains for 2_000 tune and 10_000 draw iterations (8_000 + 40_000 draws total) took 16 seconds.\n"
     ]
    }
   ],
   "source": [
    "# test the correlation between drift rate and measured mood \n",
    "# using pymc3 package\n",
    "# test valence\n",
    "\n",
    "with pm.Model() as model_valence:\n",
    "    alpha = pm.Normal(\"alpha\", mu=0, sigma=10)\n",
    "    beta_valence = pm.Normal(\"beta\", mu=0, sigma=10)\n",
    "    sigma = pm.HalfNormal(\"sigma\", sigma=1)\n",
    "    \n",
    "    mu_valence = alpha + beta_valence * mood[\"movie_valence_measured\"].values\n",
    "    \n",
    "    v_1V0A = pm.Normal('v_1V0A', mu=mu_valence, sd=sigma, observed=mood['v_1V0A'].values)\n",
    "    \n",
    "    trace_v = pm.sample(10000, tune=2000)"
   ]
  },
  {
   "cell_type": "code",
   "execution_count": 20,
   "id": "agricultural-afternoon",
   "metadata": {},
   "outputs": [
    {
     "name": "stderr",
     "output_type": "stream",
     "text": [
      "Auto-assigning NUTS sampler...\n",
      "Initializing NUTS using jitter+adapt_diag...\n",
      "Multiprocess sampling (4 chains in 4 jobs)\n",
      "NUTS: [sigma, beta, alpha]\n"
     ]
    },
    {
     "data": {
      "text/html": [
       "\n",
       "    <div>\n",
       "        <style>\n",
       "            /* Turns off some styling */\n",
       "            progress {\n",
       "                /* gets rid of default border in Firefox and Opera. */\n",
       "                border: none;\n",
       "                /* Needs to be in here for Safari polyfill so background images work as expected. */\n",
       "                background-size: auto;\n",
       "            }\n",
       "            .progress-bar-interrupted, .progress-bar-interrupted::-webkit-progress-bar {\n",
       "                background: #F44336;\n",
       "            }\n",
       "        </style>\n",
       "      <progress value='48000' class='' max='48000' style='width:300px; height:20px; vertical-align: middle;'></progress>\n",
       "      100.00% [48000/48000 00:13<00:00 Sampling 4 chains, 0 divergences]\n",
       "    </div>\n",
       "    "
      ],
      "text/plain": [
       "<IPython.core.display.HTML object>"
      ]
     },
     "metadata": {},
     "output_type": "display_data"
    },
    {
     "name": "stderr",
     "output_type": "stream",
     "text": [
      "Sampling 4 chains for 2_000 tune and 10_000 draw iterations (8_000 + 40_000 draws total) took 14 seconds.\n",
      "The acceptance probability does not match the target. It is 0.8788659248551624, but should be close to 0.8. Try to increase the number of tuning steps.\n"
     ]
    }
   ],
   "source": [
    "# test the correlation between drift rate and measured mood \n",
    "# using pymc3 package\n",
    "# test arousal\n",
    "with pm.Model() as model_arousal:\n",
    "    alpha = pm.Normal(\"alpha\", mu=0, sigma=10)\n",
    "    beta_arousal = pm.Normal(\"beta\", mu=0, sigma=10)\n",
    "    sigma = pm.HalfNormal(\"sigma\", sigma=1)\n",
    "    \n",
    "    mu_arousal = alpha + beta_arousal * mood[\"movie_arousal_measured\"].values\n",
    "    \n",
    "    v_0V1A = pm.Normal('v_0V1A', mu=mu_arousal, sd=sigma, observed=mood['v_0V1A'].values)\n",
    "    \n",
    "    trace_a = pm.sample(10000, tune=2000)"
   ]
  },
  {
   "cell_type": "code",
   "execution_count": 24,
   "id": "removed-gnome",
   "metadata": {},
   "outputs": [],
   "source": [
    "# save the traces of the correlation to csv for inference testing and plotting\n",
    "pd.DataFrame({\"cor_valence\": trace_v['beta'],\n",
    "              \"cor_arousal\": trace_a['beta']}).to_csv(\"plot/study1_correlation_traces.csv\")"
   ]
  },
  {
   "cell_type": "markdown",
   "id": "chicken-princess",
   "metadata": {},
   "source": [
    "# Exploratory Full Regression Analysis"
   ]
  },
  {
   "cell_type": "code",
   "execution_count": 11,
   "id": "lovely-information",
   "metadata": {},
   "outputs": [
    {
     "name": "stdout",
     "output_type": "stream",
     "text": [
      "Adding these covariates:\n",
      "['v_Intercept', 'v_movie_valence[T.1]', 'v_movie_arousal[T.1]', 'v_movie_valence[T.1]:movie_arousal[T.1]']\n",
      "Adding these covariates:\n",
      "['a_Intercept', 'a_movie_valence[T.1]', 'a_movie_arousal[T.1]', 'a_movie_valence[T.1]:movie_arousal[T.1]']\n",
      "Adding these covariates:\n",
      "['t_Intercept', 't_movie_valence[T.1]', 't_movie_arousal[T.1]', 't_movie_valence[T.1]:movie_arousal[T.1]']\n",
      "Adding these covariates:\n",
      "['z_Intercept', 'z_movie_valence[T.1]', 'z_movie_arousal[T.1]', 'z_movie_valence[T.1]:movie_arousal[T.1]']\n"
     ]
    }
   ],
   "source": [
    "m_full_model = hddm.HDDMRegressor(data, [\"v ~ movie_valence + movie_arousal + movie_valence*movie_arousal\",\n",
    "                                   \"a ~ movie_valence + movie_arousal + movie_valence*movie_arousal\",\n",
    "                                   \"t ~ movie_valence + movie_arousal + movie_valence*movie_arousal\",\n",
    "                                   \"z ~ movie_valence + movie_arousal + movie_valence*movie_arousal\"],\n",
    "                            include=('v', 'a', 't', 'z'),\n",
    "                            p_outlier=0.05)"
   ]
  },
  {
   "cell_type": "code",
   "execution_count": null,
   "id": "excited-mother",
   "metadata": {},
   "outputs": [],
   "source": [
    "m_full_model.find_starting_values()\n",
    "m_full_model.sample(10000, burn=2000, dbname='traces_regression.db', db='pickle')\n",
    "m_full_model.save('traces_regression')"
   ]
  },
  {
   "cell_type": "code",
   "execution_count": null,
   "id": "other-married",
   "metadata": {},
   "outputs": [],
   "source": []
  }
 ],
 "metadata": {
  "kernelspec": {
   "display_name": "Python 3",
   "language": "python",
   "name": "python3"
  },
  "language_info": {
   "codemirror_mode": {
    "name": "ipython",
    "version": 3
   },
   "file_extension": ".py",
   "mimetype": "text/x-python",
   "name": "python",
   "nbconvert_exporter": "python",
   "pygments_lexer": "ipython3",
   "version": "3.7.4"
  }
 },
 "nbformat": 4,
 "nbformat_minor": 5
}
