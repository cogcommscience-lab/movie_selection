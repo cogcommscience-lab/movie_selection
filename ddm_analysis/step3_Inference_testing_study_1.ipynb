{
 "cells": [
  {
   "cell_type": "code",
   "execution_count": 1,
   "id": "honey-recipient",
   "metadata": {},
   "outputs": [
    {
     "name": "stdout",
     "output_type": "stream",
     "text": [
      "0.8.0\n"
     ]
    },
    {
     "name": "stderr",
     "output_type": "stream",
     "text": [
      "/home/jasongong/.local/lib/python3.7/site-packages/IPython/parallel.py:13: ShimWarning: The `IPython.parallel` package has been deprecated since IPython 4.0. You should import from ipyparallel instead.\n",
      "  \"You should import from ipyparallel instead.\", ShimWarning)\n"
     ]
    }
   ],
   "source": [
    "import ipyparallel\n",
    "import hddm\n",
    "import pandas as pd\n",
    "import matplotlib.pyplot as plt\n",
    "import numpy as np\n",
    "%matplotlib inline\n",
    "import seaborn as sns\n",
    "print(hddm.__version__)"
   ]
  },
  {
   "cell_type": "markdown",
   "id": "fifty-fault",
   "metadata": {},
   "source": [
    "# Confirmatory inference testing"
   ]
  },
  {
   "cell_type": "code",
   "execution_count": 3,
   "id": "innovative-bulletin",
   "metadata": {},
   "outputs": [],
   "source": [
    "# load the HDDM model fitted in step XX\n",
    "m = hddm.load(\"m_full_hddm_study1_new_subj10_removed\")"
   ]
  },
  {
   "cell_type": "code",
   "execution_count": 4,
   "id": "minor-lover",
   "metadata": {},
   "outputs": [],
   "source": [
    "# get the MCMC chains of HDDM model\n",
    "v_0V0A, v_0V1A, v_1V0A, v_1V1A, v_1Vne1A = m.nodes_db.loc[['v(0V0A)', 'v(0V1A)', 'v(1V0A)', 'v(1V1A)', 'v(1Vne1A)'], 'node']"
   ]
  },
  {
   "cell_type": "code",
   "execution_count": 26,
   "id": "assisted-syria",
   "metadata": {},
   "outputs": [],
   "source": [
    "# save the parameter samples for plotting\n",
    "pd.DataFrame({\n",
    "    \"v_0V0A\": v_0V0A.trace(),\n",
    "    \"v_0V1A\":v_0V1A.trace(),\n",
    "    \"v_1V0A\":v_1V0A.trace(),\n",
    "    \"v_1V1A\":v_1V1A.trace(),\n",
    "    \"v_1Vne1A\":v_1Vne1A.trace(),\n",
    "             }).to_csv(\"plot/study_1_ddm_confirmative_analysis.csv\")"
   ]
  },
  {
   "cell_type": "code",
   "execution_count": 19,
   "id": "fossil-favorite",
   "metadata": {},
   "outputs": [],
   "source": [
    "# test the percentage of posteriors higher and lower than 0\n",
    "def inference_test(trace):\n",
    "    probability1 = round((trace < 0).mean(), 3) \n",
    "    probability2 = round((1-probability1), 3) \n",
    "    return \"{} % < 0 < {} %\".format(probability1 * 100, probability2 * 100)\n"
   ]
  },
  {
   "cell_type": "markdown",
   "id": "thrown-framework",
   "metadata": {},
   "source": [
    "### Valence hypothesis testing"
   ]
  },
  {
   "cell_type": "code",
   "execution_count": 21,
   "id": "animated-victim",
   "metadata": {},
   "outputs": [
    {
     "name": "stdout",
     "output_type": "stream",
     "text": [
      "100.0 % < 0 < 0.0 %\n",
      "100.0 % < 0 < 0.0 %\n"
     ]
    }
   ],
   "source": [
    "# test 1V0A against 0\n",
    "print(inference_test(v_1V0A.trace()))\n",
    "\n",
    "# test 1V0A against 0V0A\n",
    "print(inference_test(v_1V0A.trace() - v_0V0A.trace()))"
   ]
  },
  {
   "cell_type": "markdown",
   "id": "weekly-emission",
   "metadata": {},
   "source": [
    "### Arousal hypothesis testing"
   ]
  },
  {
   "cell_type": "code",
   "execution_count": 23,
   "id": "ongoing-input",
   "metadata": {},
   "outputs": [
    {
     "name": "stdout",
     "output_type": "stream",
     "text": [
      "28.9 % < 0 < 71.1 %\n",
      "30.3 % < 0 < 69.69999999999999 %\n"
     ]
    }
   ],
   "source": [
    "# test 0V1A against 0\n",
    "print(inference_test(v_0V1A.trace()))\n",
    "\n",
    "# test 0V1A against 0V0A\n",
    "print(inference_test(v_0V1A.trace() - v_0V0A.trace()))"
   ]
  },
  {
   "cell_type": "markdown",
   "id": "looking-floating",
   "metadata": {},
   "source": [
    "### Multi-attribute hypothesis testing"
   ]
  },
  {
   "cell_type": "code",
   "execution_count": 24,
   "id": "acting-essay",
   "metadata": {},
   "outputs": [
    {
     "name": "stdout",
     "output_type": "stream",
     "text": [
      "0.0 % < 0 < 100.0 %\n",
      "77.2 % < 0 < 22.8 %\n",
      "0.0 % < 0 < 100.0 %\n",
      "42.6 % < 0 < 57.4 %\n"
     ]
    }
   ],
   "source": [
    "# compare 1V1A drift rate magnitude (converted to positive) against 0V1A drift rate magnitude\n",
    "print(inference_test(-v_1V1A.trace() - v_0V1A.trace()))\n",
    "\n",
    "# compare 1V1A drift rate magnitude (converted to positive) against 1V0A drift rate magnitude (converted to positive)\n",
    "print(inference_test(-v_1V1A.trace() - -v_1V0A.trace()))\n",
    "\n",
    "# compare 1V-1A drift rate magnitude (converted to positive) against 0V1A drift rate magnitude\n",
    "print(inference_test(-v_1Vne1A.trace() - v_0V1A.trace()))\n",
    "\n",
    "# compare 1V-1A drift rate magnitude (converted to positive) against 1V0A drift rate magnitude (converted to positive)\n",
    "print(inference_test(-v_1Vne1A.trace() - -v_1V0A.trace()))\n"
   ]
  },
  {
   "cell_type": "code",
   "execution_count": 26,
   "id": "chinese-relief",
   "metadata": {},
   "outputs": [
    {
     "name": "stdout",
     "output_type": "stream",
     "text": [
      "0.0 % < 0 < 100.0 %\n"
     ]
    }
   ],
   "source": [
    "# compare 0V1A drift rate magnitude against 1V0A drift rate magnitude (converted to positive)\n",
    "print(inference_test(-v_1V0A.trace() - v_0V1A.trace()))"
   ]
  },
  {
   "cell_type": "markdown",
   "id": "material-tension",
   "metadata": {},
   "source": [
    "## Credible intervals for drift rate posteriors"
   ]
  },
  {
   "cell_type": "code",
   "execution_count": 150,
   "id": "essential-focus",
   "metadata": {},
   "outputs": [
    {
     "data": {
      "text/html": [
       "<div>\n",
       "<style scoped>\n",
       "    .dataframe tbody tr th:only-of-type {\n",
       "        vertical-align: middle;\n",
       "    }\n",
       "\n",
       "    .dataframe tbody tr th {\n",
       "        vertical-align: top;\n",
       "    }\n",
       "\n",
       "    .dataframe thead th {\n",
       "        text-align: right;\n",
       "    }\n",
       "</style>\n",
       "<table border=\"1\" class=\"dataframe\">\n",
       "  <thead>\n",
       "    <tr style=\"text-align: right;\">\n",
       "      <th></th>\n",
       "      <th>mean</th>\n",
       "      <th>std</th>\n",
       "      <th>2.5q</th>\n",
       "      <th>25q</th>\n",
       "      <th>50q</th>\n",
       "      <th>75q</th>\n",
       "      <th>97.5q</th>\n",
       "      <th>mc err</th>\n",
       "    </tr>\n",
       "  </thead>\n",
       "  <tbody>\n",
       "    <tr>\n",
       "      <th>v(0V0A)</th>\n",
       "      <td>-0.004064</td>\n",
       "      <td>0.024843</td>\n",
       "      <td>-0.052777</td>\n",
       "      <td>-0.020711</td>\n",
       "      <td>-0.003842</td>\n",
       "      <td>0.012387</td>\n",
       "      <td>0.044655</td>\n",
       "      <td>0.000498</td>\n",
       "    </tr>\n",
       "    <tr>\n",
       "      <th>v(0V1A)</th>\n",
       "      <td>0.014242</td>\n",
       "      <td>0.024899</td>\n",
       "      <td>-0.034195</td>\n",
       "      <td>-0.00284</td>\n",
       "      <td>0.014728</td>\n",
       "      <td>0.030597</td>\n",
       "      <td>0.063661</td>\n",
       "      <td>0.000485</td>\n",
       "    </tr>\n",
       "    <tr>\n",
       "      <th>v(1V0A)</th>\n",
       "      <td>-0.161679</td>\n",
       "      <td>0.025377</td>\n",
       "      <td>-0.2121</td>\n",
       "      <td>-0.178439</td>\n",
       "      <td>-0.162172</td>\n",
       "      <td>-0.144853</td>\n",
       "      <td>-0.111483</td>\n",
       "      <td>0.000568</td>\n",
       "    </tr>\n",
       "    <tr>\n",
       "      <th>v(1V1A)</th>\n",
       "      <td>-0.134958</td>\n",
       "      <td>0.025472</td>\n",
       "      <td>-0.183634</td>\n",
       "      <td>-0.152116</td>\n",
       "      <td>-0.135537</td>\n",
       "      <td>-0.117343</td>\n",
       "      <td>-0.085592</td>\n",
       "      <td>0.000453</td>\n",
       "    </tr>\n",
       "    <tr>\n",
       "      <th>v(1Vne1A)</th>\n",
       "      <td>-0.167925</td>\n",
       "      <td>0.024622</td>\n",
       "      <td>-0.215453</td>\n",
       "      <td>-0.184259</td>\n",
       "      <td>-0.168088</td>\n",
       "      <td>-0.151875</td>\n",
       "      <td>-0.118419</td>\n",
       "      <td>0.000492</td>\n",
       "    </tr>\n",
       "  </tbody>\n",
       "</table>\n",
       "</div>"
      ],
      "text/plain": [
       "               mean       std      2.5q       25q       50q       75q  \\\n",
       "v(0V0A)   -0.004064  0.024843 -0.052777 -0.020711 -0.003842  0.012387   \n",
       "v(0V1A)    0.014242  0.024899 -0.034195  -0.00284  0.014728  0.030597   \n",
       "v(1V0A)   -0.161679  0.025377   -0.2121 -0.178439 -0.162172 -0.144853   \n",
       "v(1V1A)   -0.134958  0.025472 -0.183634 -0.152116 -0.135537 -0.117343   \n",
       "v(1Vne1A) -0.167925  0.024622 -0.215453 -0.184259 -0.168088 -0.151875   \n",
       "\n",
       "              97.5q    mc err  \n",
       "v(0V0A)    0.044655  0.000498  \n",
       "v(0V1A)    0.063661  0.000485  \n",
       "v(1V0A)   -0.111483  0.000568  \n",
       "v(1V1A)   -0.085592  0.000453  \n",
       "v(1Vne1A) -0.118419  0.000492  "
      ]
     },
     "execution_count": 150,
     "metadata": {},
     "output_type": "execute_result"
    }
   ],
   "source": [
    "# \n",
    "stats = m.gen_stats()\n",
    "stats[stats.index.isin(['v(0V0A)', 'v(1V0A)', 'v(0V1A)', 'v(1V1A)', 'v(1Vne1A)'])]"
   ]
  },
  {
   "cell_type": "markdown",
   "id": "exact-republican",
   "metadata": {},
   "source": [
    "# test the correlation between drift rate and mood valence/arosual"
   ]
  },
  {
   "cell_type": "code",
   "execution_count": 14,
   "id": "furnished-median",
   "metadata": {},
   "outputs": [],
   "source": [
    "# load the correlation traces\n",
    "cor_traces = pd.read_csv(\"study1_correlation_traces.csv\")"
   ]
  },
  {
   "cell_type": "code",
   "execution_count": 22,
   "id": "based-purse",
   "metadata": {},
   "outputs": [
    {
     "name": "stdout",
     "output_type": "stream",
     "text": [
      "35.699999999999996 % < 0 < 64.3 %\n",
      "39.2 % < 0 < 60.8 %\n"
     ]
    }
   ],
   "source": [
    "# test the correlation against 0 - p values\n",
    "print(inference_test(cor_traces.cor_valence))\n",
    "print(inference_test(cor_traces.cor_arousal))"
   ]
  },
  {
   "cell_type": "code",
   "execution_count": 123,
   "id": "worth-evening",
   "metadata": {},
   "outputs": [
    {
     "name": "stdout",
     "output_type": "stream",
     "text": [
      "0.025   -0.040777\n",
      "0.500    0.009598\n",
      "0.975    0.060154\n",
      "Name: cor_valence, dtype: float64\n",
      "0.025   -0.023044\n",
      "0.500    0.003872\n",
      "0.975    0.031421\n",
      "Name: cor_arousal, dtype: float64\n"
     ]
    }
   ],
   "source": [
    "# get the quantiles for the correlation parameter\n",
    "print(cor_traces.cor_valence.quantile(q=[0.025, 0.5, 0.975]))\n",
    "print(cor_traces.cor_arousal.quantile(q=[0.025, 0.5, 0.975]))"
   ]
  },
  {
   "cell_type": "markdown",
   "id": "distributed-undergraduate",
   "metadata": {},
   "source": [
    "# Exploratory analysis"
   ]
  },
  {
   "cell_type": "code",
   "execution_count": 16,
   "id": "hungarian-starter",
   "metadata": {},
   "outputs": [
    {
     "name": "stdout",
     "output_type": "stream",
     "text": [
      "WARNING: Custom link functions will not be loaded.\n"
     ]
    }
   ],
   "source": [
    "# Load the regression model fitted in step XX\n",
    "m_full_model = hddm.load(\"m_full_regression_study1_new_subj_10_removed\")"
   ]
  },
  {
   "cell_type": "code",
   "execution_count": 17,
   "id": "governmental-wildlife",
   "metadata": {},
   "outputs": [],
   "source": [
    "# access the sampled node for v, a, t, z\n",
    "v_intercept, v_movie_valence, v_movie_arousal, v_movie_valence_movie_arousal\\\n",
    "= m_full_model.nodes_db.loc[[\"v_Intercept\",\n",
    "                             \"v_movie_valence[T.1]\",\n",
    "                             \"v_movie_arousal[T.1]\",\n",
    "                             \"v_movie_valence[T.1]:movie_arousal[T.1]\"], 'node']\n",
    "a_intercept, a_movie_valence, a_movie_arousal, a_movie_valence_movie_arousal\\\n",
    "= m_full_model.nodes_db.loc[[\"a_Intercept\",\n",
    "                             \"a_movie_valence[T.1]\",\n",
    "                             \"a_movie_arousal[T.1]\",\n",
    "                             \"a_movie_valence[T.1]:movie_arousal[T.1]\"], 'node']\n",
    "t_intercept, t_movie_valence, t_movie_arousal, t_movie_valence_movie_arousal\\\n",
    "= m_full_model.nodes_db.loc[[\"t_Intercept\",\n",
    "                             \"t_movie_valence[T.1]\",\n",
    "                             \"t_movie_arousal[T.1]\",\n",
    "                             \"t_movie_valence[T.1]:movie_arousal[T.1]\"], 'node']\n",
    "z_intercept, z_movie_valence, z_movie_arousal, z_movie_valence_movie_arousal\\\n",
    "= m_full_model.nodes_db.loc[[\"z_Intercept\",\n",
    "                             \"z_movie_valence[T.1]\",\n",
    "                             \"z_movie_arousal[T.1]\",\n",
    "                             \"z_movie_valence[T.1]:movie_arousal[T.1]\"], 'node']"
   ]
  },
  {
   "cell_type": "markdown",
   "id": "inappropriate-kansas",
   "metadata": {},
   "source": [
    "### testing regressors effects on drift rate"
   ]
  },
  {
   "cell_type": "code",
   "execution_count": 28,
   "id": "thousand-welsh",
   "metadata": {},
   "outputs": [
    {
     "name": "stdout",
     "output_type": "stream",
     "text": [
      "100.0 % < 0 < 0.0 %\n",
      "3.4000000000000004 % < 0 < 96.6 %\n",
      "87.2 % < 0 < 12.8 %\n"
     ]
    }
   ],
   "source": [
    "# test the regressors effects against 0\n",
    "print(inference_test(v_movie_valence.trace()))\n",
    "print(inference_test(v_movie_arousal.trace()))\n",
    "print(inference_test(v_movie_valence_movie_arousal.trace()))"
   ]
  },
  {
   "cell_type": "markdown",
   "id": "capable-agent",
   "metadata": {},
   "source": [
    "### testing regressors effects on decison boundary"
   ]
  },
  {
   "cell_type": "code",
   "execution_count": 29,
   "id": "plain-comparison",
   "metadata": {},
   "outputs": [
    {
     "name": "stdout",
     "output_type": "stream",
     "text": [
      "98.8 % < 0 < 1.2 %\n",
      "99.8 % < 0 < 0.2 %\n",
      "16.5 % < 0 < 83.5 %\n"
     ]
    }
   ],
   "source": [
    "print(inference_test(a_movie_valence.trace()))\n",
    "print(inference_test(a_movie_arousal.trace()))\n",
    "print(inference_test(a_movie_valence_movie_arousal.trace()))"
   ]
  },
  {
   "cell_type": "markdown",
   "id": "architectural-mentor",
   "metadata": {},
   "source": [
    "### testing regressors effects on non-decision time"
   ]
  },
  {
   "cell_type": "code",
   "execution_count": 30,
   "id": "demonstrated-vancouver",
   "metadata": {},
   "outputs": [
    {
     "name": "stdout",
     "output_type": "stream",
     "text": [
      "53.2 % < 0 < 46.800000000000004 %\n",
      "21.7 % < 0 < 78.3 %\n",
      "31.7 % < 0 < 68.30000000000001 %\n"
     ]
    }
   ],
   "source": [
    "print(inference_test(t_movie_valence.trace()))\n",
    "print(inference_test(t_movie_arousal.trace()))\n",
    "print(inference_test(t_movie_valence_movie_arousal.trace()))"
   ]
  },
  {
   "cell_type": "markdown",
   "id": "anticipated-break",
   "metadata": {},
   "source": [
    "### testing regressors effects on decision bias"
   ]
  },
  {
   "cell_type": "code",
   "execution_count": 31,
   "id": "flying-style",
   "metadata": {},
   "outputs": [
    {
     "name": "stdout",
     "output_type": "stream",
     "text": [
      "85.39999999999999 % < 0 < 14.6 %\n",
      "96.6 % < 0 < 3.4000000000000004 %\n",
      "5.2 % < 0 < 94.8 %\n"
     ]
    }
   ],
   "source": [
    "print(inference_test(z_movie_valence.trace()))\n",
    "print(inference_test(z_movie_arousal.trace()))\n",
    "print(inference_test(z_movie_valence_movie_arousal.trace()))"
   ]
  },
  {
   "cell_type": "markdown",
   "id": "governmental-aerospace",
   "metadata": {},
   "source": [
    "### credible intervals for parameters: v, a, t, z"
   ]
  },
  {
   "cell_type": "code",
   "execution_count": 166,
   "id": "sustained-lewis",
   "metadata": {},
   "outputs": [
    {
     "data": {
      "text/html": [
       "<div>\n",
       "<style scoped>\n",
       "    .dataframe tbody tr th:only-of-type {\n",
       "        vertical-align: middle;\n",
       "    }\n",
       "\n",
       "    .dataframe tbody tr th {\n",
       "        vertical-align: top;\n",
       "    }\n",
       "\n",
       "    .dataframe thead th {\n",
       "        text-align: right;\n",
       "    }\n",
       "</style>\n",
       "<table border=\"1\" class=\"dataframe\">\n",
       "  <thead>\n",
       "    <tr style=\"text-align: right;\">\n",
       "      <th></th>\n",
       "      <th>mean</th>\n",
       "      <th>std</th>\n",
       "      <th>2.5q</th>\n",
       "      <th>25q</th>\n",
       "      <th>50q</th>\n",
       "      <th>75q</th>\n",
       "      <th>97.5q</th>\n",
       "      <th>mc err</th>\n",
       "    </tr>\n",
       "  </thead>\n",
       "  <tbody>\n",
       "    <tr>\n",
       "      <th>v_Intercept</th>\n",
       "      <td>0.000463</td>\n",
       "      <td>0.019322</td>\n",
       "      <td>-0.037608</td>\n",
       "      <td>-0.012247</td>\n",
       "      <td>0.000312</td>\n",
       "      <td>0.013691</td>\n",
       "      <td>0.037633</td>\n",
       "      <td>0.000967</td>\n",
       "    </tr>\n",
       "    <tr>\n",
       "      <th>v_movie_valence[T.1]</th>\n",
       "      <td>-0.143673</td>\n",
       "      <td>0.020908</td>\n",
       "      <td>-0.183477</td>\n",
       "      <td>-0.157648</td>\n",
       "      <td>-0.143708</td>\n",
       "      <td>-0.129463</td>\n",
       "      <td>-0.10247</td>\n",
       "      <td>0.001325</td>\n",
       "    </tr>\n",
       "    <tr>\n",
       "      <th>v_movie_arousal[T.1]</th>\n",
       "      <td>0.036857</td>\n",
       "      <td>0.020527</td>\n",
       "      <td>-0.002362</td>\n",
       "      <td>0.022181</td>\n",
       "      <td>0.036771</td>\n",
       "      <td>0.050921</td>\n",
       "      <td>0.076147</td>\n",
       "      <td>0.001333</td>\n",
       "    </tr>\n",
       "    <tr>\n",
       "      <th>v_movie_valence[T.1]:movie_arousal[T.1]</th>\n",
       "      <td>-0.031247</td>\n",
       "      <td>0.028036</td>\n",
       "      <td>-0.088474</td>\n",
       "      <td>-0.050274</td>\n",
       "      <td>-0.030411</td>\n",
       "      <td>-0.01162</td>\n",
       "      <td>0.021784</td>\n",
       "      <td>0.001855</td>\n",
       "    </tr>\n",
       "    <tr>\n",
       "      <th>a_Intercept</th>\n",
       "      <td>3.16628</td>\n",
       "      <td>0.061695</td>\n",
       "      <td>3.046999</td>\n",
       "      <td>3.124417</td>\n",
       "      <td>3.16699</td>\n",
       "      <td>3.206911</td>\n",
       "      <td>3.287944</td>\n",
       "      <td>0.001947</td>\n",
       "    </tr>\n",
       "    <tr>\n",
       "      <th>a_movie_valence[T.1]</th>\n",
       "      <td>-0.083693</td>\n",
       "      <td>0.036437</td>\n",
       "      <td>-0.158431</td>\n",
       "      <td>-0.108096</td>\n",
       "      <td>-0.082877</td>\n",
       "      <td>-0.05901</td>\n",
       "      <td>-0.015306</td>\n",
       "      <td>0.002436</td>\n",
       "    </tr>\n",
       "    <tr>\n",
       "      <th>a_movie_arousal[T.1]</th>\n",
       "      <td>-0.087047</td>\n",
       "      <td>0.034723</td>\n",
       "      <td>-0.15925</td>\n",
       "      <td>-0.109886</td>\n",
       "      <td>-0.086965</td>\n",
       "      <td>-0.063358</td>\n",
       "      <td>-0.020407</td>\n",
       "      <td>0.002362</td>\n",
       "    </tr>\n",
       "    <tr>\n",
       "      <th>a_movie_valence[T.1]:movie_arousal[T.1]</th>\n",
       "      <td>0.045924</td>\n",
       "      <td>0.046786</td>\n",
       "      <td>-0.041671</td>\n",
       "      <td>0.013138</td>\n",
       "      <td>0.044137</td>\n",
       "      <td>0.076823</td>\n",
       "      <td>0.142416</td>\n",
       "      <td>0.003222</td>\n",
       "    </tr>\n",
       "    <tr>\n",
       "      <th>t_Intercept</th>\n",
       "      <td>0.943743</td>\n",
       "      <td>0.04961</td>\n",
       "      <td>0.850841</td>\n",
       "      <td>0.909737</td>\n",
       "      <td>0.942076</td>\n",
       "      <td>0.975795</td>\n",
       "      <td>1.047389</td>\n",
       "      <td>0.001427</td>\n",
       "    </tr>\n",
       "    <tr>\n",
       "      <th>t_movie_valence[T.1]</th>\n",
       "      <td>-0.000652</td>\n",
       "      <td>0.01276</td>\n",
       "      <td>-0.024857</td>\n",
       "      <td>-0.009624</td>\n",
       "      <td>-0.00126</td>\n",
       "      <td>0.007856</td>\n",
       "      <td>0.026284</td>\n",
       "      <td>0.000884</td>\n",
       "    </tr>\n",
       "    <tr>\n",
       "      <th>t_movie_arousal[T.1]</th>\n",
       "      <td>0.009768</td>\n",
       "      <td>0.012524</td>\n",
       "      <td>-0.013664</td>\n",
       "      <td>0.00119</td>\n",
       "      <td>0.009066</td>\n",
       "      <td>0.018157</td>\n",
       "      <td>0.035125</td>\n",
       "      <td>0.000856</td>\n",
       "    </tr>\n",
       "    <tr>\n",
       "      <th>t_movie_valence[T.1]:movie_arousal[T.1]</th>\n",
       "      <td>0.007713</td>\n",
       "      <td>0.017015</td>\n",
       "      <td>-0.026906</td>\n",
       "      <td>-0.00402</td>\n",
       "      <td>0.008302</td>\n",
       "      <td>0.020219</td>\n",
       "      <td>0.039399</td>\n",
       "      <td>0.001207</td>\n",
       "    </tr>\n",
       "    <tr>\n",
       "      <th>z_Intercept</th>\n",
       "      <td>0.501502</td>\n",
       "      <td>0.006167</td>\n",
       "      <td>0.489736</td>\n",
       "      <td>0.497323</td>\n",
       "      <td>0.501179</td>\n",
       "      <td>0.5055</td>\n",
       "      <td>0.513795</td>\n",
       "      <td>0.000478</td>\n",
       "    </tr>\n",
       "    <tr>\n",
       "      <th>z_movie_valence[T.1]</th>\n",
       "      <td>-0.009954</td>\n",
       "      <td>0.009399</td>\n",
       "      <td>-0.028191</td>\n",
       "      <td>-0.016513</td>\n",
       "      <td>-0.009932</td>\n",
       "      <td>-0.00348</td>\n",
       "      <td>0.008084</td>\n",
       "      <td>0.000661</td>\n",
       "    </tr>\n",
       "    <tr>\n",
       "      <th>z_movie_arousal[T.1]</th>\n",
       "      <td>-0.016756</td>\n",
       "      <td>0.008966</td>\n",
       "      <td>-0.034226</td>\n",
       "      <td>-0.023055</td>\n",
       "      <td>-0.016719</td>\n",
       "      <td>-0.01069</td>\n",
       "      <td>0.000892</td>\n",
       "      <td>0.000614</td>\n",
       "    </tr>\n",
       "    <tr>\n",
       "      <th>z_movie_valence[T.1]:movie_arousal[T.1]</th>\n",
       "      <td>0.020156</td>\n",
       "      <td>0.012501</td>\n",
       "      <td>-0.004681</td>\n",
       "      <td>0.011671</td>\n",
       "      <td>0.020211</td>\n",
       "      <td>0.028327</td>\n",
       "      <td>0.045196</td>\n",
       "      <td>0.00086</td>\n",
       "    </tr>\n",
       "  </tbody>\n",
       "</table>\n",
       "</div>"
      ],
      "text/plain": [
       "                                             mean       std      2.5q  \\\n",
       "v_Intercept                              0.000463  0.019322 -0.037608   \n",
       "v_movie_valence[T.1]                    -0.143673  0.020908 -0.183477   \n",
       "v_movie_arousal[T.1]                     0.036857  0.020527 -0.002362   \n",
       "v_movie_valence[T.1]:movie_arousal[T.1] -0.031247  0.028036 -0.088474   \n",
       "a_Intercept                               3.16628  0.061695  3.046999   \n",
       "a_movie_valence[T.1]                    -0.083693  0.036437 -0.158431   \n",
       "a_movie_arousal[T.1]                    -0.087047  0.034723  -0.15925   \n",
       "a_movie_valence[T.1]:movie_arousal[T.1]  0.045924  0.046786 -0.041671   \n",
       "t_Intercept                              0.943743   0.04961  0.850841   \n",
       "t_movie_valence[T.1]                    -0.000652   0.01276 -0.024857   \n",
       "t_movie_arousal[T.1]                     0.009768  0.012524 -0.013664   \n",
       "t_movie_valence[T.1]:movie_arousal[T.1]  0.007713  0.017015 -0.026906   \n",
       "z_Intercept                              0.501502  0.006167  0.489736   \n",
       "z_movie_valence[T.1]                    -0.009954  0.009399 -0.028191   \n",
       "z_movie_arousal[T.1]                    -0.016756  0.008966 -0.034226   \n",
       "z_movie_valence[T.1]:movie_arousal[T.1]  0.020156  0.012501 -0.004681   \n",
       "\n",
       "                                              25q       50q       75q  \\\n",
       "v_Intercept                             -0.012247  0.000312  0.013691   \n",
       "v_movie_valence[T.1]                    -0.157648 -0.143708 -0.129463   \n",
       "v_movie_arousal[T.1]                     0.022181  0.036771  0.050921   \n",
       "v_movie_valence[T.1]:movie_arousal[T.1] -0.050274 -0.030411  -0.01162   \n",
       "a_Intercept                              3.124417   3.16699  3.206911   \n",
       "a_movie_valence[T.1]                    -0.108096 -0.082877  -0.05901   \n",
       "a_movie_arousal[T.1]                    -0.109886 -0.086965 -0.063358   \n",
       "a_movie_valence[T.1]:movie_arousal[T.1]  0.013138  0.044137  0.076823   \n",
       "t_Intercept                              0.909737  0.942076  0.975795   \n",
       "t_movie_valence[T.1]                    -0.009624  -0.00126  0.007856   \n",
       "t_movie_arousal[T.1]                      0.00119  0.009066  0.018157   \n",
       "t_movie_valence[T.1]:movie_arousal[T.1]  -0.00402  0.008302  0.020219   \n",
       "z_Intercept                              0.497323  0.501179    0.5055   \n",
       "z_movie_valence[T.1]                    -0.016513 -0.009932  -0.00348   \n",
       "z_movie_arousal[T.1]                    -0.023055 -0.016719  -0.01069   \n",
       "z_movie_valence[T.1]:movie_arousal[T.1]  0.011671  0.020211  0.028327   \n",
       "\n",
       "                                            97.5q    mc err  \n",
       "v_Intercept                              0.037633  0.000967  \n",
       "v_movie_valence[T.1]                     -0.10247  0.001325  \n",
       "v_movie_arousal[T.1]                     0.076147  0.001333  \n",
       "v_movie_valence[T.1]:movie_arousal[T.1]  0.021784  0.001855  \n",
       "a_Intercept                              3.287944  0.001947  \n",
       "a_movie_valence[T.1]                    -0.015306  0.002436  \n",
       "a_movie_arousal[T.1]                    -0.020407  0.002362  \n",
       "a_movie_valence[T.1]:movie_arousal[T.1]  0.142416  0.003222  \n",
       "t_Intercept                              1.047389  0.001427  \n",
       "t_movie_valence[T.1]                     0.026284  0.000884  \n",
       "t_movie_arousal[T.1]                     0.035125  0.000856  \n",
       "t_movie_valence[T.1]:movie_arousal[T.1]  0.039399  0.001207  \n",
       "z_Intercept                              0.513795  0.000478  \n",
       "z_movie_valence[T.1]                     0.008084  0.000661  \n",
       "z_movie_arousal[T.1]                     0.000892  0.000614  \n",
       "z_movie_valence[T.1]:movie_arousal[T.1]  0.045196   0.00086  "
      ]
     },
     "execution_count": 166,
     "metadata": {},
     "output_type": "execute_result"
    }
   ],
   "source": [
    "stats = m_full_model.gen_stats()\n",
    "stats[stats.index.isin([\"v_Intercept\",\n",
    "    \"v_movie_valence[T.1]\",\n",
    "    \"v_movie_arousal[T.1]\", \n",
    "    \"v_movie_valence[T.1]:movie_arousal[T.1]\",\n",
    "    \n",
    "                        \"a_Intercept\",\n",
    "    \"a_movie_valence[T.1]\",\n",
    "    \"a_movie_arousal[T.1]\", \n",
    "    \"a_movie_valence[T.1]:movie_arousal[T.1]\",\n",
    "    \n",
    "                        \"t_Intercept\",\n",
    "    \"t_movie_valence[T.1]\",\n",
    "    \"t_movie_arousal[T.1]\", \n",
    "    \"t_movie_valence[T.1]:movie_arousal[T.1]\",\n",
    "    \n",
    "                        \"z_Intercept\",\n",
    "    \"z_movie_valence[T.1]\",\n",
    "    \"z_movie_arousal[T.1]\", \n",
    "    \"z_movie_valence[T.1]:movie_arousal[T.1]\",])]"
   ]
  },
  {
   "cell_type": "code",
   "execution_count": 167,
   "id": "elementary-magic",
   "metadata": {},
   "outputs": [],
   "source": [
    "# save the traces for plotting\n",
    "pd.DataFrame({\"v_intercept\": v_intercept.trace(),\n",
    "     \"v_movie_valence\": v_movie_valence.trace(),\n",
    "     \"v_movie_arousal\": v_movie_arousal.trace(), \n",
    "     \"v_movie_valence_movie_arousal\": v_movie_valence_movie_arousal.trace(),\n",
    "     \"a_intercept\": a_intercept.trace(),\n",
    "     \"a_movie_valence\": a_movie_valence.trace(),\n",
    "     \"a_movie_arousal\": a_movie_arousal.trace(),\n",
    "     \"a_movie_valence_movie_arousal\": a_movie_valence_movie_arousal.trace(),\n",
    "     \"t_intercept\": t_intercept.trace(), \n",
    "     \"t_movie_valence\": t_movie_valence.trace(),\n",
    "     \"t_movie_arousal\": t_movie_arousal.trace(),\n",
    "     \"t_movie_valence_movie_arousal\": t_movie_valence_movie_arousal.trace(),\n",
    "     \"z_intercept\": z_intercept.trace(), \n",
    "     \"z_movie_valence\": z_movie_valence.trace(), \n",
    "     \"z_movie_arousal\": z_movie_arousal.trace(), \n",
    "     \"z_movie_valence_movie_arousal\": z_movie_valence_movie_arousal.trace()}).to_csv(\"plot/study_1_ddm_exploratory_analysis.csv\")"
   ]
  },
  {
   "cell_type": "code",
   "execution_count": null,
   "id": "usual-priority",
   "metadata": {},
   "outputs": [],
   "source": []
  }
 ],
 "metadata": {
  "kernelspec": {
   "display_name": "Python 3",
   "language": "python",
   "name": "python3"
  },
  "language_info": {
   "codemirror_mode": {
    "name": "ipython",
    "version": 3
   },
   "file_extension": ".py",
   "mimetype": "text/x-python",
   "name": "python",
   "nbconvert_exporter": "python",
   "pygments_lexer": "ipython3",
   "version": "3.7.4"
  }
 },
 "nbformat": 4,
 "nbformat_minor": 5
}
